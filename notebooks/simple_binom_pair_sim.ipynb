{
 "cells": [
  {
   "cell_type": "markdown",
   "metadata": {},
   "source": [
    "# Armadillo ASE analysis (200219)\n",
    "Simple model (common p for each quad for each SNP) and pair comparison"
   ]
  },
  {
   "cell_type": "code",
   "execution_count": 54,
   "metadata": {},
   "outputs": [],
   "source": [
    "require(viridis)\n",
    "require(ggplot2)\n",
    "require(dplyr)\n",
    "require(parallel)\n",
    "\n",
    "set.seed(42)"
   ]
  },
  {
   "cell_type": "code",
   "execution_count": 55,
   "metadata": {},
   "outputs": [],
   "source": [
    "load(\"data/exprs_all.Rdata\")\n",
    "load(\"data/metadata.Rdata\")\n",
    "#source(\"data/useful.r\")\n",
    "load(\"data/ase_ratios.test_train.Rdata\")\n",
    "#load(\"data/gene_annotations_v0.95.Rdata\")\n",
    "#load(\"data/armadillo.helper.Rdata\")"
   ]
  },
  {
   "cell_type": "code",
   "execution_count": 56,
   "metadata": {},
   "outputs": [
    {
     "name": "stdout",
     "output_type": "stream",
     "text": [
      " [1] M M M M F F F F F F F F F F F F M M M M M M M M F F F F F F F F F F F F M M\n",
      "[39] M M M M M M F F F F F F F F F F F F M M M M\n",
      "Levels: F M\n"
     ]
    },
    {
     "data": {
      "text/html": [
       "<style>\n",
       ".list-inline {list-style: none; margin:0; padding: 0}\n",
       ".list-inline>li {display: inline-block}\n",
       ".list-inline>li:not(:last-child)::after {content: \"\\00b7\"; padding: 0 .5ex}\n",
       "</style>\n",
       "<ol class=list-inline><li>2</li><li>2</li><li>2</li><li>1</li><li>1</li><li>1</li><li>1</li><li>1</li><li>1</li><li>1</li><li>1</li><li>1</li><li>2</li><li>2</li><li>2</li></ol>\n"
      ],
      "text/latex": [
       "\\begin{enumerate*}\n",
       "\\item 2\n",
       "\\item 2\n",
       "\\item 2\n",
       "\\item 1\n",
       "\\item 1\n",
       "\\item 1\n",
       "\\item 1\n",
       "\\item 1\n",
       "\\item 1\n",
       "\\item 1\n",
       "\\item 1\n",
       "\\item 1\n",
       "\\item 2\n",
       "\\item 2\n",
       "\\item 2\n",
       "\\end{enumerate*}\n"
      ],
      "text/markdown": [
       "1. 2\n",
       "2. 2\n",
       "3. 2\n",
       "4. 1\n",
       "5. 1\n",
       "6. 1\n",
       "7. 1\n",
       "8. 1\n",
       "9. 1\n",
       "10. 1\n",
       "11. 1\n",
       "12. 1\n",
       "13. 2\n",
       "14. 2\n",
       "15. 2\n",
       "\n",
       "\n"
      ],
      "text/plain": [
       " [1] 2 2 2 1 1 1 1 1 1 1 1 1 2 2 2"
      ]
     },
     "metadata": {},
     "output_type": "display_data"
    },
    {
     "data": {
      "text/html": [
       "<style>\n",
       ".list-inline {list-style: none; margin:0; padding: 0}\n",
       ".list-inline>li {display: inline-block}\n",
       ".list-inline>li:not(:last-child)::after {content: \"\\00b7\"; padding: 0 .5ex}\n",
       "</style>\n",
       "<ol class=list-inline><li>1</li><li>2</li><li>3</li><li>1</li><li>2</li><li>3</li><li>1</li><li>2</li><li>3</li><li>1</li><li>2</li><li>3</li><li>1</li><li>2</li><li>3</li></ol>\n"
      ],
      "text/latex": [
       "\\begin{enumerate*}\n",
       "\\item 1\n",
       "\\item 2\n",
       "\\item 3\n",
       "\\item 1\n",
       "\\item 2\n",
       "\\item 3\n",
       "\\item 1\n",
       "\\item 2\n",
       "\\item 3\n",
       "\\item 1\n",
       "\\item 2\n",
       "\\item 3\n",
       "\\item 1\n",
       "\\item 2\n",
       "\\item 3\n",
       "\\end{enumerate*}\n"
      ],
      "text/markdown": [
       "1. 1\n",
       "2. 2\n",
       "3. 3\n",
       "4. 1\n",
       "5. 2\n",
       "6. 3\n",
       "7. 1\n",
       "8. 2\n",
       "9. 3\n",
       "10. 1\n",
       "11. 2\n",
       "12. 3\n",
       "13. 1\n",
       "14. 2\n",
       "15. 3\n",
       "\n",
       "\n"
      ],
      "text/plain": [
       " [1] 1 2 3 1 2 3 1 2 3 1 2 3 1 2 3"
      ]
     },
     "metadata": {},
     "output_type": "display_data"
    }
   ],
   "source": [
    "print(pData$Sex)\n",
    "sexlabels\n",
    "timelabels"
   ]
  },
  {
   "cell_type": "code",
   "execution_count": 57,
   "metadata": {},
   "outputs": [],
   "source": [
    "# Variables \n",
    "n_quads = 5\n",
    "n_times = 3 \n",
    "n_qt = n_quads * n_times\n",
    "n_q = 4 \n",
    "n_samp = n_quads * n_q\n",
    "r_samp = 1:n_samp \n",
    "\n",
    "# Labels \n",
    "quad = as.numeric(pData$Quad)\n",
    "sex = as.numeric(pData$Sex)\n",
    "lane = as.numeric(pData$Batches)\n",
    "tlab = c(\"t1\", \"t2\", \"t3\")\n",
    "quads = unique(substr(pData$ID, 1,4))\n",
    "\n",
    "labels = paste(sapply(1:n_quads, function(i) rep(quads[i],n_times)), tlab  ) \n",
    "sexlabels = unlist(lapply(1:n_quads, function(i) rep(unique(cbind(pData$Quad, pData$Sex) )[i,2],n_times)) ) \n",
    "timelabels = rep(1:n_times, n_quads)\n",
    "quadlabels = unlist(lapply(1:n_quads, function(i) rep(unique(cbind(pData$Quad, pData$Sex) )[i,1],n_times))   ) \n"
   ]
  },
  {
   "cell_type": "code",
   "execution_count": 58,
   "metadata": {},
   "outputs": [],
   "source": [
    "exprs.all.filt = lapply( 1:5, function(i) exprs.all[[i]][!is.na(exprs.all[[i]][,1]),]) \n",
    "ratios = list() \n",
    "for(j in 1:5){ \n",
    "  X.temp = (exprs.all.filt[[j]][,7:18]) \n",
    "  nj = dim(X.temp)[1]/2\n",
    "  ratios[[j]] = cbind((X.temp[(1:nj),1:4] / (X.temp[(1:nj)+nj,1:4] +X.temp[(1:nj),1:4] ) ),\n",
    "                      (X.temp[(1:nj),5:8] / (X.temp[(1:nj)+nj,5:8] +X.temp[(1:nj),5:8] ) ),\n",
    "                      (X.temp[(1:nj),9:12] / (X.temp[(1:nj)+nj,9:12] +X.temp[(1:nj),9:12] ) ))\n",
    "  \n",
    "}\n",
    "density.plot = lapply(1:5, function(i) density( ratios[[i]][!is.na(ratios[[i]])] )  )"
   ]
  },
  {
   "cell_type": "code",
   "execution_count": 59,
   "metadata": {},
   "outputs": [],
   "source": [
    "ase_cov = list()\n",
    "for (i in 1:5) {\n",
    "    X.temp = exprs.all.filt[[i]][,7:18]\n",
    "    nj = dim(X.temp)[1]/2\n",
    "    allele_a = X.temp[1:nj,]\n",
    "    allele_b = X.temp[1:nj+nj,]\n",
    "    ase_cov[[i]] = lapply(1:12, function(j) {\n",
    "        df = data.frame(major=allele_a[,j], minor=allele_b[,j])\n",
    "        df = cbind(df, cov=rowSums(df))\n",
    "        df = cbind(df, ratio=allele_a[,j]/df$cov)\n",
    "        return(df)\n",
    "    })\n",
    "}"
   ]
  },
  {
   "cell_type": "code",
   "execution_count": 60,
   "metadata": {},
   "outputs": [],
   "source": [
    "summarize.one.pair.data.simple <- function(data) {\n",
    "    tdf <- data %>% group_by(gene) %>% summarise(\n",
    "       mean_cov = mean(cov),\n",
    "       cor = min(cor),\n",
    "       scor = min(scor),\n",
    "       prob = sum(prob, na.rm=TRUE),\n",
    "       pvalue  = sum(pvalue, na.rm=TRUE),\n",
    "       prob_fixed = sum(prob_fixed, na.rm=TRUE),\n",
    "        pvalue_fixed = sum(pvalue_fixed, na.rm=TRUE),\n",
    "        p = min(p),\n",
    "        p_fixed = min(p_fixed)\n",
    "    )\n",
    "    tdf <- cbind(tdf, exp_pvalue = exp(tdf$pvalue))\n",
    "    tdf <- cbind(tdf, exp_pvalue_fixed = exp(tdf$pvalue_fixed))\n",
    "    tdf <- cbind(tdf, exp_prob=exp(tdf$prob))\n",
    "    tdf <- cbind(tdf, exp_prob_fixed=exp(tdf$prob_fixed))\n",
    "    return(tdf)\n",
    "}\n",
    "summarize.one.data.simple <- function(data) {\n",
    "    tdf <- data %>% group_by(gene) %>% summarise(\n",
    "       mean_cov = mean(cov),\n",
    "       prob = sum(prob, na.rm=TRUE),\n",
    "       pvalue  = sum(pvalue, na.rm=TRUE),\n",
    "       prob_fixed = sum(prob_fixed, na.rm=TRUE),\n",
    "       pvalue_fixed = sum(pvalue_fixed, na.rm=TRUE),\n",
    "       p = min(p),\n",
    "       p_fixed = min(p_fixed)      \n",
    "    )\n",
    "    return(tdf)\n",
    "}"
   ]
  },
  {
   "cell_type": "code",
   "execution_count": 61,
   "metadata": {},
   "outputs": [],
   "source": [
    "estimate.p.for.quad <- function(ase_cov, ident, time, g) {\n",
    "    n = sum(unlist(lapply(1:4, function(x){return(ase_cov[[ident]][[time*4+x]][g, 3])})), na.rm=T)\n",
    "    ny = sum(unlist(lapply(1:4, function(x){return(ase_cov[[ident]][[time*4+x]][g, 1])})), na.rm=T)\n",
    "    return(ny/n)\n",
    "}\n",
    "estimate.p.for.quad.fixed <- function(ase_cov, ident, time, g) {\n",
    "    return(mean(estimate.p.for.each(ase_cov, ident, time, g), na.rm=T))\n",
    "}\n",
    "estimate.p.for.each <- function(ase_cov, ident, time, g) {\n",
    "    return(unlist(lapply(1:4, function(x){return(ase_cov[[ident]][[time*4+x]][g,4])})))\n",
    "}"
   ]
  },
  {
   "cell_type": "code",
   "execution_count": 62,
   "metadata": {},
   "outputs": [],
   "source": [
    "compute.prob <- function(major, cov, p) {\n",
    "    return(unlist(sapply(1:4, function(x) {return(dbinom(major[x], cov[x], p, log=TRUE))})))\n",
    "}\n",
    "compute.pvalue <- function(major, cov, p) {\n",
    "    return(unlist(sapply(1:4, function(x) {\n",
    "                #if (cov[x] == 0) return(1);\n",
    "                if (cov[x] == 0) return(0.5);\n",
    "                if (major[x]/cov[x] < p) return(pbinom(major[x], cov[x], p, log=TRUE, lower.tail=TRUE))\n",
    "                else return(pbinom(major[x], cov[x], p, log=TRUE, lower.tail=FALSE))\n",
    "    })))\n",
    "}\n"
   ]
  },
  {
   "cell_type": "code",
   "execution_count": 63,
   "metadata": {},
   "outputs": [],
   "source": [
    "compute.simple.pvalue.comb <- function(ase_cov, ident, time, gene_set=NULL, verbose=FALSE) {\n",
    "    if (is.null(gene_set))\n",
    "        gene_set = 1:dim(ase_cov[[ident]][[1]][1])[1]\n",
    "    df <- do.call(rbind, lapply(gene_set, function(g) {\n",
    "        x_cord <- unlist(lapply(1:4, function(x){return(ase_cov[[ident]][[x]][g,4])}))\n",
    "        x_cov <- unlist(lapply(1:4, function(x){return(ase_cov[[ident]][[x]][g,3])}))\n",
    "        y_cord <- unlist(lapply(1:4, function(x){return(ase_cov[[ident]][[time*4+x]][g,4])}))\n",
    "        y_major <- unlist(lapply(1:4, function(x){return(ase_cov[[ident]][[time*4+x]][g,1])}))\n",
    "        y_cov <- unlist(lapply(1:4, function(x){return(ase_cov[[ident]][[time*4+x]][g,3])}))\n",
    "        if (sum(is.nan(x_cord+y_cord)) >= 2)\n",
    "            return(NULL)\n",
    "        p <- estimate.p.for.quad(ase_cov, ident, 0, g)\n",
    "        if (is.na(p))\n",
    "            return(NULL)\n",
    "        prob = compute.prob(y_major, y_cov, p)\n",
    "        pvalue = compute.pvalue(y_major, y_cov, p)\n",
    "        p_fixed <- estimate.p.for.quad.fixed(ase_cov, ident, 0, g)\n",
    "        if (!is.na(p_fixed)) {\n",
    "            prob_fixed = compute.prob(y_major, y_cov, p_fixed)\n",
    "            pvalue_fixed = compute.pvalue(y_major, y_cov, p_fixed)\n",
    "        }\n",
    "#         y_cord <- y_cord[order(x_cord)]\n",
    "#         x_cov <- x_cov[order(x_cord)]\n",
    "#         y_cov <- y_cov[order(x_cord)]\n",
    "#         x_cord <- x_cord[order(x_cord)]\n",
    "        suppressWarnings({\n",
    "            temp = data.frame(x=x_cord, y=y_cord, gene=g, cor=rep(cor.test(x=x_cord, y=y_cord, method = 'pearson')$estimate, 4), \n",
    "                              scor=rep(cor.test(x=x_cord, y=y_cord, method = 'spearman')$estimate, 4), cov=(x_cov+y_cov)/2, \n",
    "                              prob=prob, pvalue=pvalue, prob_fixed=prob_fixed, pvalue_fixed=pvalue_fixed, p=rep(p, 4), p_fixed=rep(p_fixed, 4))\n",
    "            temp <- temp[order(x_cord),]\n",
    "        })\n",
    "        return(temp)\n",
    "    }))\n",
    "    return(df)\n",
    "}\n",
    "compute.simple.pvalue.comb.parallel <- function(ident) {\n",
    "    result <- list()\n",
    "    for (j in 1:2) {\n",
    "        gene_set = sample(1:dim(ase_cov[[ident]][[j]][1])[1], 2000)\n",
    "        result[[j]] <- compute.simple.pvalue.comb(ase_cov, ident, j)\n",
    "    }\n",
    "    return(result)\n",
    "}\n",
    "\n"
   ]
  },
  {
   "cell_type": "code",
   "execution_count": 64,
   "metadata": {},
   "outputs": [
    {
     "name": "stdout",
     "output_type": "stream",
     "text": [
      "NULL\n",
      "[1] 5\n",
      "[1] 2\n",
      "           x         y gene         cor       scor  cov      prob    pvalue\n",
      "3  0.2222222 0.7692308    1 -0.27642212  0.1054093 11.0 -3.851235 -5.139387\n",
      "2  0.4444444 0.3181818    1 -0.27642212  0.1054093 15.5 -2.717362 -2.138473\n",
      "4  0.5333333 0.4000000    1 -0.27642212  0.1054093 17.5 -1.896625 -1.031230\n",
      "1  0.5833333 0.7692308    1 -0.27642212  0.1054093 12.5 -3.851235 -5.139387\n",
      "11 0.3181818 0.7857143    2 -0.05075261 -0.4000000 18.0 -5.068150 -6.619846\n",
      "41 0.3809524 0.4666667    2 -0.05075261 -0.4000000 25.5 -2.013288 -1.284049\n",
      "   prob_fixed pvalue_fixed         p   p_fixed\n",
      "3   -4.192978   -5.5766652 0.4666667 0.4458333\n",
      "2   -2.462269   -1.8252542 0.4666667 0.4458333\n",
      "4   -1.802159   -0.8460045 0.4666667 0.4458333\n",
      "1   -4.192978   -5.5766652 0.4666667 0.4458333\n",
      "11  -5.046982   -6.5939290 0.4302326 0.4312771\n",
      "41  -2.008699   -1.2699573 0.4302326 0.4312771\n",
      "             x           y gene       cor       scor   cov      prob     pvalue\n",
      "2  0.000000000 0.000000000    1 -0.516761 -0.5443311 718.5 -1.545848 -1.5458479\n",
      "4  0.000000000 0.002267574    1 -0.516761 -0.5443311 560.0 -1.048349 -0.4946696\n",
      "3  0.003436426 0.000000000    1 -0.516761 -0.5443311 651.5 -1.316267 -1.3162665\n",
      "1  0.007174888 0.000000000    1 -0.516761 -0.5443311 824.5 -1.634619 -1.6346193\n",
      "21 0.000000000 0.001890359    2 -0.299388 -0.2108185 747.0 -1.030383 -0.4511275\n",
      "41 0.001408451 0.000000000    2 -0.299388 -0.2108185 580.5 -1.085150 -1.0851496\n",
      "   prob_fixed pvalue_fixed           p     p_fixed\n",
      "2   -1.341459   -1.3414585 0.003056405 0.002652829\n",
      "4   -1.011880   -0.3953390 0.003056405 0.002652829\n",
      "3   -1.142232   -1.1422320 0.003056405 0.002652829\n",
      "1   -1.418493   -1.4184928 0.003056405 0.002652829\n",
      "21  -1.026266   -0.4400529 0.002403204 0.002365730\n",
      "41  -1.068208   -1.0682084 0.002403204 0.002365730\n"
     ]
    }
   ],
   "source": [
    "sdf <- mclapply(1:5, compute.simple.pvalue.comb.parallel, mc.cores=5)\n",
    "# sdf[[5]] <- compute.simple.pvalue.comb.parallel(5)\n",
    "# sdf <- mclapply(1:1, compute.simple.pvalue.parallel, mc.cores=1)\n",
    "print(names(sdf))\n",
    "print(length(sdf))\n",
    "print(length(sdf[[1]]))\n",
    "print(head(sdf[[1]][[1]]))\n",
    "print(head(sdf[[5]][[1]]))\n",
    "saveRDS(sdf, 'simple_t0_result.rds')"
   ]
  },
  {
   "cell_type": "code",
   "execution_count": 49,
   "metadata": {},
   "outputs": [
    {
     "name": "stdout",
     "output_type": "stream",
     "text": [
      "           x         y gene         cor       scor  cov      prob       pvalue\n",
      "3  0.2222222 0.7692308    1 -0.27642212  0.1054093 11.0 -3.851235 -0.005878527\n",
      "2  0.4444444 0.3181818    1 -0.27642212  0.1054093 15.5 -2.717362 -2.138473287\n",
      "4  0.5333333 0.4000000    1 -0.27642212  0.1054093 17.5 -1.896625 -1.031230128\n",
      "1  0.5833333 0.7692308    1 -0.27642212  0.1054093 12.5 -3.851235 -0.005878527\n",
      "11 0.3181818 0.7857143    2 -0.05075261 -0.4000000 18.0 -5.068150 -0.001334526\n",
      "41 0.3809524 0.4666667    2 -0.05075261 -0.4000000 25.5 -2.013288 -0.324226849\n",
      "   prob_fixed pvalue_fixed         p   p_fixed\n",
      "3   -4.192978 -0.003792349 0.4666667 0.4458333\n",
      "2   -2.462269 -1.825254156 0.4666667 0.4458333\n",
      "4   -1.802159 -0.846004534 0.4666667 0.4458333\n",
      "1   -4.192978 -0.003792349 0.4666667 0.4458333\n",
      "11  -5.046982 -0.001369589 0.4302326 0.4312771\n",
      "41  -2.008699 -0.329676432 0.4302326 0.4312771\n",
      "           x         y gene        cor scor  cov      prob      pvalue\n",
      "3  0.2222222 0.3333333    1  0.4660849  0.2 10.5 -1.872872 -1.32954823\n",
      "2  0.4444444 0.7500000    1  0.4660849  0.2  8.5 -2.497853 -0.02307897\n",
      "4  0.5333333 0.7272727    1  0.4660849  0.2 13.0 -2.877001 -0.01971735\n",
      "1  0.5833333 0.4285714    1  0.4660849  0.2  9.5 -1.245507 -0.55757932\n",
      "11 0.3181818 0.5000000    2 -0.3892769 -0.2 18.0 -1.700796 -0.23809031\n",
      "41 0.3809524 0.3500000    2 -0.3892769 -0.2 20.5 -1.958565 -1.16340464\n",
      "   prob_fixed pvalue_fixed         p   p_fixed\n",
      "3   -1.749001  -1.15577213 0.4666667 0.4458333\n",
      "2   -2.695236  -0.01723017 0.4666667 0.4458333\n",
      "4   -3.127405  -0.01387978 0.4666667 0.4458333\n",
      "1   -1.229241  -0.48271003 0.4666667 0.4458333\n",
      "11  -1.696667  -0.24107575 0.4302326 0.4312771\n",
      "41  -1.965445  -1.17419581 0.4302326 0.4312771\n",
      "           x         y gene         cor scor   cov      prob     pvalue\n",
      "2  0.4841270 0.5299145    1 -0.04623143 -0.4 121.5 -2.619803 -0.7490230\n",
      "1  0.5297297 0.5238095    1 -0.04623143 -0.4 145.0 -2.591991 -0.8473672\n",
      "3  0.5572917 0.5714286    1 -0.04623143 -0.4 120.5 -2.282402 -0.3112297\n",
      "4  0.5604396 0.4862385    1 -0.04623143 -0.4 145.5 -3.141388 -1.7981280\n",
      "21 0.4796748 0.4642857    2  0.70266868  0.2 117.5 -3.425363 -2.1669132\n",
      "11 0.5133690 0.5542169    2  0.70266868  0.2 135.0 -2.569789 -0.3061088\n",
      "   prob_fixed pvalue_fixed         p   p_fixed\n",
      "2   -2.609322   -0.6726700 0.5372263 0.5328970\n",
      "1   -2.571429   -0.7683371 0.5372263 0.5328970\n",
      "3   -2.313413   -0.2847545 0.5372263 0.5328970\n",
      "4   -3.048774   -1.6647471 0.5372263 0.5328970\n",
      "21  -3.286484   -1.9824820 0.5255172 0.5202376\n",
      "11  -2.624837   -0.2654942 0.5255172 0.5202376\n",
      "           x         y gene        cor scor   cov      prob     pvalue\n",
      "2  0.4841270 0.5500000    1 -0.1611646  0.2  93.0 -2.291878 -0.4664054\n",
      "1  0.5297297 0.5098039    1 -0.1611646  0.2 118.0 -2.273374 -0.9181164\n",
      "3  0.5572917 0.4821429    1 -0.1611646  0.2 124.0 -2.582845 -1.4111108\n",
      "4  0.5604396 0.5789474    1 -0.1611646  0.2 119.5 -2.439842 -0.2520981\n",
      "21 0.4796748 0.5263158    2 -0.3607992 -0.4  99.5 -2.393170 -0.5970728\n",
      "11 0.5133690 0.4117647    2 -0.3607992 -0.4 119.0 -3.505500 -2.6801054\n",
      "   prob_fixed pvalue_fixed         p   p_fixed\n",
      "2   -2.307475   -0.4269786 0.5372263 0.5328970\n",
      "1   -2.250957   -0.8591604 0.5372263 0.5328970\n",
      "3   -2.531272   -1.3287132 0.5372263 0.5328970\n",
      "4   -2.483375   -0.2278551 0.5372263 0.5328970\n",
      "21  -2.398699   -0.5331866 0.5255172 0.5202376\n",
      "11  -3.385575   -2.5363859 0.5255172 0.5202376\n",
      "           x         y gene       cor scor  cov      prob      pvalue\n",
      "4  0.5000000 0.5312500    1 0.5620572  0.4 52.0 -1.967221 -0.61688762\n",
      "2  0.5140187 0.4444444    1 0.5620572  0.4 67.0 -2.347403 -1.52426033\n",
      "1  0.5533333 0.4615385    1 0.5620572  0.4 88.0 -2.163673 -1.27452507\n",
      "3  0.5797101 0.6379310    1 0.5620572  0.4 63.5 -3.413913 -0.04828673\n",
      "41 0.4805195 0.4090909    2 0.7927422  0.8 60.5 -3.291212 -2.49243000\n",
      "21 0.5096154 0.3055556    2 0.7927422  0.8 70.0 -5.481219 -5.03625668\n",
      "   prob_fixed pvalue_fixed         p   p_fixed\n",
      "4   -1.966511  -0.60916232 0.5376884 0.5367655\n",
      "2   -2.338103  -1.51115145 0.5376884 0.5367655\n",
      "1   -2.156368  -1.26307354 0.5376884 0.5367655\n",
      "3   -3.435595  -0.04685674 0.5376884 0.5367655\n",
      "41  -3.207392  -2.39087005 0.5248756 0.5206955\n",
      "21  -5.350186  -4.89652425 0.5248756 0.5206955\n",
      "           x         y gene        cor scor   cov      prob      pvalue\n",
      "4  0.5000000 0.6052632    1 -0.2462959 -0.4  93.0 -3.631165 -0.06300593\n",
      "2  0.5140187 0.4512195    1 -0.2462959 -0.4  94.5 -3.656096 -2.62578209\n",
      "1  0.5533333 0.6000000    1 -0.2462959 -0.4 122.5 -3.233737 -0.09736450\n",
      "3  0.5797101 0.4747475    1 -0.2462959 -0.4  84.0 -3.310570 -2.08673577\n",
      "41 0.4805195 0.4787234    2  0.5455733  0.8  85.5 -2.899978 -1.54248597\n",
      "21 0.5096154 0.5212766    2  0.5455733  0.8  99.0 -2.501639 -0.66821433\n",
      "   prob_fixed pvalue_fixed         p   p_fixed\n",
      "4   -3.659957  -0.06051360 0.5376884 0.5367655\n",
      "2   -3.629916  -2.59384524 0.5376884 0.5367655\n",
      "1   -3.255874  -0.09411385 0.5376884 0.5367655\n",
      "3   -3.287608  -2.05634953 0.5376884 0.5367655\n",
      "41  -2.830579  -1.43415234 0.5248756 0.5206955\n",
      "21  -2.499262  -0.60700181 0.5248756 0.5206955\n",
      "           x         y gene        cor scor  cov      prob       pvalue\n",
      "3  0.4531250 0.3611111    1  0.6476551  0.8 50.0 -4.477665 -3.936536991\n",
      "2  0.5373134 0.2500000    1  0.6476551  0.8 43.5 -5.230246 -4.954271052\n",
      "4  0.5652174 0.5882353    1  0.6476551  0.8 54.5 -1.702439 -0.328363816\n",
      "1  0.6075949 0.6000000    1  0.6476551  0.8 52.0 -1.971763 -0.262715711\n",
      "41 0.5000000 0.8000000    2 -0.8067091 -0.8 62.5 -5.052817 -0.002356382\n",
      "31 0.5466667 0.5142857    2 -0.8067091 -0.8 55.0 -2.103265 -0.929722073\n",
      "   prob_fixed pvalue_fixed         p   p_fixed\n",
      "3   -4.330847 -3.775062797 0.5463576 0.5408127\n",
      "2   -5.099014 -4.816437842 0.5463576 0.5408127\n",
      "4   -1.719403 -0.307243715 0.5463576 0.5408127\n",
      "1   -2.003284 -0.241289387 0.5463576 0.5408127\n",
      "41  -4.834369 -0.003066097 0.5506329 0.5594424\n",
      "31  -2.154147 -1.036835453 0.5506329 0.5594424\n",
      "           x         y gene        cor scor  cov      prob     pvalue\n",
      "3  0.4531250 0.5000000    1  0.4672161  0.2 39.0 -1.623595 -0.7658200\n",
      "2  0.5373134 0.4838710    1  0.4672161  0.2 49.0 -2.193269 -1.2006400\n",
      "4  0.5652174 0.4444444    1  0.4672161  0.2 55.0 -2.053884 -1.3359122\n",
      "1  0.6075949 0.6285714    1  0.4672161  0.2 57.0 -2.461563 -0.1337923\n",
      "41 0.5000000 0.5806452    2 -0.7077465 -0.8 65.5 -1.994647 -0.3634750\n",
      "31 0.5466667 0.5000000    2 -0.7077465 -0.8 45.5 -1.710162 -0.8322658\n",
      "   prob_fixed pvalue_fixed         p   p_fixed\n",
      "3   -1.609957   -0.7301449 0.5463576 0.5408127\n",
      "2   -2.151895   -1.1296495 0.5463576 0.5408127\n",
      "4   -2.013999   -1.2772071 0.5463576 0.5408127\n",
      "1   -2.528042   -0.1189959 0.5463576 0.5408127\n",
      "41  -1.966333   -0.4159621 0.5506329 0.5594424\n",
      "31  -1.741576   -0.8993005 0.5506329 0.5594424\n",
      "             x           y gene       cor       scor   cov      prob     pvalue\n",
      "2  0.000000000 0.000000000    1 -0.516761 -0.5443311 718.5 -1.545848 -1.5458479\n",
      "4  0.000000000 0.002267574    1 -0.516761 -0.5443311 560.0 -1.048349 -0.4946696\n",
      "3  0.003436426 0.000000000    1 -0.516761 -0.5443311 651.5 -1.316267 -1.3162665\n",
      "1  0.007174888 0.000000000    1 -0.516761 -0.5443311 824.5 -1.634619 -1.6346193\n",
      "21 0.000000000 0.001890359    2 -0.299388 -0.2108185 747.0 -1.030383 -0.4511275\n",
      "41 0.001408451 0.000000000    2 -0.299388 -0.2108185 580.5 -1.085150 -1.0851496\n",
      "   prob_fixed pvalue_fixed           p     p_fixed\n",
      "2   -1.341459   -1.3414585 0.003056405 0.002652829\n",
      "4   -1.011880   -0.3953390 0.003056405 0.002652829\n",
      "3   -1.142232   -1.1422320 0.003056405 0.002652829\n",
      "1   -1.418493   -1.4184928 0.003056405 0.002652829\n",
      "21  -1.026266   -0.4400529 0.002403204 0.002365730\n",
      "41  -1.068208   -1.0682084 0.002403204 0.002365730\n",
      "             x           y gene       cor scor   cov       prob      pvalue\n",
      "2  0.000000000 0.002659574    1 0.4153857  0.5 654.0 -1.0088337 -0.38423050\n",
      "4  0.000000000 0.000000000    1 0.4153857  0.5 505.5 -1.0162802 -1.01628019\n",
      "3  0.003436426 0.000000000    1 0.4153857  0.5 625.5 -1.1570901 -1.15709009\n",
      "1  0.007174888 0.003154574    1 0.4153857  0.5 716.0 -0.9989171 -0.29139141\n",
      "21 0.000000000 0.002577320    2 0.2400818  0.0 676.5 -1.0011064 -0.27361863\n",
      "41 0.001408451 0.005665722    2 0.2400818  0.0 531.5 -1.8694925 -0.05594381\n",
      "   prob_fixed pvalue_fixed           p     p_fixed\n",
      "2  -0.9986723  -0.30558340 0.003056405 0.002652829\n",
      "4  -0.8819094  -0.88190936 0.003056405 0.002652829\n",
      "3  -1.0041016  -1.00410162 0.003056405 0.002652829\n",
      "1  -1.0126348  -0.23056984 0.003056405 0.002652829\n",
      "21 -1.0022855  -0.26662398 0.002403204 0.002365730\n",
      "41 -1.8877400  -0.05381539 0.002403204 0.002365730\n"
     ]
    }
   ],
   "source": [
    "for (i in 1:5) {\n",
    "    for (j in 1:2) {\n",
    "        print(head(sdf[[i]][[j]]))\n",
    "    }\n",
    "}\n"
   ]
  },
  {
   "cell_type": "code",
   "execution_count": 99,
   "metadata": {},
   "outputs": [
    {
     "name": "stdout",
     "output_type": "stream",
     "text": [
      "             ensemblID           type name     chrm    pos allele 15-501_1\n",
      "175 ENSDNOG00000042290 protein_coding  SYK JH563979 766458      G        7\n",
      "176 ENSDNOG00000042290 protein_coding  SYK JH563979 766677      G        7\n",
      "177 ENSDNOG00000042290 protein_coding  SYK JH563979 766712      G        3\n",
      "179 ENSDNOG00000042290 protein_coding  SYK JH563979 766874      G        6\n",
      "181 ENSDNOG00000042290 protein_coding  SYK JH563979 767289      T        4\n",
      "182 ENSDNOG00000042290 protein_coding  SYK JH563979 767371      T       13\n",
      "    15-502_1 15-503_1 15-504_1 15-501_2 15-502_2 15-503_2 15-504_2 15-501_3\n",
      "175        4        2        8       10        7       10        8        3\n",
      "176       10       12        8       11        5       11       14        7\n",
      "177        5       12       10       14        5       10       10        9\n",
      "179        7        6       10       15       11        8       19        3\n",
      "181       11        6        4        9       18        7       14        4\n",
      "182        5       15        7        6        8        5       12        6\n",
      "    15-502_3 15-503_3 15-504_3\n",
      "175        6        4        8\n",
      "176        6       11        7\n",
      "177        9        9        7\n",
      "179        5        4        5\n",
      "181       10        5        6\n",
      "182        6        9        8\n",
      "  major minor cov     ratio\n",
      "1     7     5  12 0.5833333\n",
      "2     7    15  22 0.3181818\n",
      "3     3    13  16 0.1875000\n",
      "4     6     8  14 0.4285714\n",
      "5     4     9  13 0.3076923\n",
      "6    13     8  21 0.6190476\n"
     ]
    }
   ],
   "source": [
    "print(head(exprs.all.filt[[1]]))\n",
    "print(head(ase_cov[[1]][[1]]))"
   ]
  },
  {
   "cell_type": "code",
   "execution_count": 65,
   "metadata": {},
   "outputs": [],
   "source": [
    "extract.gene.info <- function(genes, ident) {\n",
    "    return(exprs.all.filt[[ident]][genes,1:5])\n",
    "}"
   ]
  },
  {
   "cell_type": "code",
   "execution_count": 66,
   "metadata": {},
   "outputs": [],
   "source": [
    "plot_histogram <- function(data, x, header, quant_value=-1) {\n",
    "    png(paste0(header, '.png'))\n",
    "    g <- ggplot(data, aes_string(x=x))+geom_histogram()+theme_bw()\n",
    "    if (quant_value > 0) {\n",
    "        q <- quantile(data[,x], quant_value)\n",
    "        print(q)\n",
    "        g <- g + geom_vline(xintercept=q, color='red', size=2) +\n",
    "        geom_text(label = paste(quant_value, ':', q), x=q, y=-50)\n",
    "    }\n",
    "    plot(g) \n",
    "    dev.off()\n",
    "}"
   ]
  },
  {
   "cell_type": "code",
   "execution_count": 67,
   "metadata": {},
   "outputs": [
    {
     "name": "stdout",
     "output_type": "stream",
     "text": [
      "       1% \n",
      "-21.74035 \n"
     ]
    },
    {
     "name": "stderr",
     "output_type": "stream",
     "text": [
      "`stat_bin()` using `bins = 30`. Pick better value with `binwidth`.\n",
      "\n"
     ]
    },
    {
     "name": "stdout",
     "output_type": "stream",
     "text": [
      "      1% \n",
      "-22.0199 \n"
     ]
    },
    {
     "name": "stderr",
     "output_type": "stream",
     "text": [
      "`stat_bin()` using `bins = 30`. Pick better value with `binwidth`.\n",
      "\n"
     ]
    },
    {
     "name": "stdout",
     "output_type": "stream",
     "text": [
      "       1% \n",
      "-19.39961 \n"
     ]
    },
    {
     "name": "stderr",
     "output_type": "stream",
     "text": [
      "`stat_bin()` using `bins = 30`. Pick better value with `binwidth`.\n",
      "\n"
     ]
    },
    {
     "name": "stdout",
     "output_type": "stream",
     "text": [
      "       1% \n",
      "-20.17023 \n"
     ]
    },
    {
     "name": "stderr",
     "output_type": "stream",
     "text": [
      "`stat_bin()` using `bins = 30`. Pick better value with `binwidth`.\n",
      "\n"
     ]
    },
    {
     "name": "stdout",
     "output_type": "stream",
     "text": [
      "      1% \n",
      "-22.5457 \n"
     ]
    },
    {
     "name": "stderr",
     "output_type": "stream",
     "text": [
      "`stat_bin()` using `bins = 30`. Pick better value with `binwidth`.\n",
      "\n"
     ]
    },
    {
     "name": "stdout",
     "output_type": "stream",
     "text": [
      "       1% \n",
      "-23.67034 \n"
     ]
    },
    {
     "name": "stderr",
     "output_type": "stream",
     "text": [
      "`stat_bin()` using `bins = 30`. Pick better value with `binwidth`.\n",
      "\n"
     ]
    },
    {
     "name": "stdout",
     "output_type": "stream",
     "text": [
      "      1% \n",
      "-21.5915 \n"
     ]
    },
    {
     "name": "stderr",
     "output_type": "stream",
     "text": [
      "`stat_bin()` using `bins = 30`. Pick better value with `binwidth`.\n",
      "\n"
     ]
    },
    {
     "name": "stdout",
     "output_type": "stream",
     "text": [
      "       1% \n",
      "-24.59577 \n"
     ]
    },
    {
     "name": "stderr",
     "output_type": "stream",
     "text": [
      "`stat_bin()` using `bins = 30`. Pick better value with `binwidth`.\n",
      "\n"
     ]
    },
    {
     "name": "stdout",
     "output_type": "stream",
     "text": [
      "       1% \n",
      "-21.55982 \n"
     ]
    },
    {
     "name": "stderr",
     "output_type": "stream",
     "text": [
      "`stat_bin()` using `bins = 30`. Pick better value with `binwidth`.\n",
      "\n"
     ]
    },
    {
     "name": "stdout",
     "output_type": "stream",
     "text": [
      "       1% \n",
      "-21.39596 \n"
     ]
    },
    {
     "name": "stderr",
     "output_type": "stream",
     "text": [
      "`stat_bin()` using `bins = 30`. Pick better value with `binwidth`.\n",
      "\n"
     ]
    },
    {
     "name": "stdout",
     "output_type": "stream",
     "text": [
      "      1% \n",
      "-20.4039 \n"
     ]
    },
    {
     "name": "stderr",
     "output_type": "stream",
     "text": [
      "`stat_bin()` using `bins = 30`. Pick better value with `binwidth`.\n",
      "\n"
     ]
    },
    {
     "name": "stdout",
     "output_type": "stream",
     "text": [
      "       1% \n",
      "-20.96496 \n"
     ]
    },
    {
     "name": "stderr",
     "output_type": "stream",
     "text": [
      "`stat_bin()` using `bins = 30`. Pick better value with `binwidth`.\n",
      "\n"
     ]
    },
    {
     "name": "stdout",
     "output_type": "stream",
     "text": [
      "       1% \n",
      "-23.02083 \n"
     ]
    },
    {
     "name": "stderr",
     "output_type": "stream",
     "text": [
      "`stat_bin()` using `bins = 30`. Pick better value with `binwidth`.\n",
      "\n"
     ]
    },
    {
     "name": "stdout",
     "output_type": "stream",
     "text": [
      "       1% \n",
      "-23.91525 \n"
     ]
    },
    {
     "name": "stderr",
     "output_type": "stream",
     "text": [
      "`stat_bin()` using `bins = 30`. Pick better value with `binwidth`.\n",
      "\n"
     ]
    },
    {
     "name": "stdout",
     "output_type": "stream",
     "text": [
      "       1% \n",
      "-20.92761 \n"
     ]
    },
    {
     "name": "stderr",
     "output_type": "stream",
     "text": [
      "`stat_bin()` using `bins = 30`. Pick better value with `binwidth`.\n",
      "\n"
     ]
    },
    {
     "name": "stdout",
     "output_type": "stream",
     "text": [
      "      1% \n",
      "-22.5578 \n"
     ]
    },
    {
     "name": "stderr",
     "output_type": "stream",
     "text": [
      "`stat_bin()` using `bins = 30`. Pick better value with `binwidth`.\n",
      "\n"
     ]
    },
    {
     "name": "stdout",
     "output_type": "stream",
     "text": [
      "       1% \n",
      "-22.92694 \n"
     ]
    },
    {
     "name": "stderr",
     "output_type": "stream",
     "text": [
      "`stat_bin()` using `bins = 30`. Pick better value with `binwidth`.\n",
      "\n"
     ]
    },
    {
     "name": "stdout",
     "output_type": "stream",
     "text": [
      "       1% \n",
      "-23.68004 \n"
     ]
    },
    {
     "name": "stderr",
     "output_type": "stream",
     "text": [
      "`stat_bin()` using `bins = 30`. Pick better value with `binwidth`.\n",
      "\n"
     ]
    },
    {
     "name": "stdout",
     "output_type": "stream",
     "text": [
      "       1% \n",
      "-22.15507 \n"
     ]
    },
    {
     "name": "stderr",
     "output_type": "stream",
     "text": [
      "`stat_bin()` using `bins = 30`. Pick better value with `binwidth`.\n",
      "\n"
     ]
    },
    {
     "name": "stdout",
     "output_type": "stream",
     "text": [
      "       1% \n",
      "-25.55472 \n"
     ]
    },
    {
     "name": "stderr",
     "output_type": "stream",
     "text": [
      "`stat_bin()` using `bins = 30`. Pick better value with `binwidth`.\n",
      "\n"
     ]
    }
   ],
   "source": [
    "all_df <- NULL\n",
    "sig_df <- NULL\n",
    "data <- sdf\n",
    "for (i in 1:5) {\n",
    "    for (j in 1:length(data[[i]])) {\n",
    "        tdf <- summarize.one.pair.data.simple(data[[i]][[j]])\n",
    "        new_df <- data.frame(gene=tdf$gene, prob=tdf$prob, pvalue=tdf$pvalue, prob_fixed=tdf$prob_fixed, pvalue_fixed=tdf$pvalue_fixed, mean_cov=tdf$mean_cov)\n",
    "        for (val in c('prob', 'pvalue', 'pvalue_fixed', 'prob_fixed')) {\n",
    "            if (any(val == c('prob', 'prob_fixed')))\n",
    "                new_df[new_df[,val] < -50, val] = -50\n",
    "            else\n",
    "                new_df[new_df[,val] < -30, val] = -30 \n",
    "        }\n",
    "        plot_histogram(new_df, 'prob', paste0('hist_prob_t0_null_', i, '_', j), quant_value=0.01)\n",
    "        plot_histogram(new_df, 'pvalue', paste0('hist_pvalue_t0_null_', i, '_', j), quant_value=0.01)\n",
    "        tdf <- subset(new_df, new_df$pvalue < quantile(new_df$pvalue, 0.01))\n",
    "        tdf <- cbind(tdf, extract.gene.info(tdf$gene, i))\n",
    "        tdf <- cbind(tdf, data.frame(ident=rep(i, dim(tdf)[1]), time=rep(j, dim(tdf)[1])))        \n",
    "        if (is.null(all_df)) all_df <- tdf\n",
    "        else all_df <- rbind(all_df, tdf)\n",
    "        new_sdf <- subset(new_df, new_df$pvalue < quantile(new_df$pvalue, 0.01))\n",
    "        new_sdf <- cbind(new_sdf, extract.gene.info(new_sdf$gene, i))\n",
    "        new_sdf <- cbind(new_sdf, data.frame(ident=rep(i, dim(new_sdf)[1]), time=rep(j, dim(new_sdf)[1])))\n",
    "        if (is.null(sig_df)) sig_df <- new_sdf\n",
    "        else sig_df <- rbind(sig_df, new_sdf)\n",
    "            \n",
    "    }\n",
    "}"
   ]
  },
  {
   "cell_type": "code",
   "execution_count": 68,
   "metadata": {},
   "outputs": [
    {
     "name": "stdout",
     "output_type": "stream",
     "text": [
      "    gene      prob    pvalue prob_fixed pvalue_fixed mean_cov\n",
      "491  491   0.00000 -30.00000    0.00000    -30.00000   33.625\n",
      "585  585 -25.93574 -22.88149  -22.40556    -19.35979   54.375\n",
      "641  641 -23.63195 -23.45608  -24.26315    -24.15789   40.250\n",
      "647  647 -50.00000 -30.00000  -50.00000    -30.00000  302.250\n",
      "648  648 -50.00000 -30.00000  -50.00000    -30.00000  301.625\n",
      "649  649 -50.00000 -30.00000  -50.00000    -30.00000  302.375\n",
      "             ensemblID           type    name     chrm    pos ident time\n",
      "491 ENSDNOG00000051200        lincRNA         JH564093  73771     1    1\n",
      "585 ENSDNOG00000035200 protein_coding CLEC12A JH564093 408835     1    1\n",
      "641 ENSDNOG00000035200 protein_coding CLEC12A JH564093 414188     1    1\n",
      "647 ENSDNOG00000035200 protein_coding CLEC12A JH564093 416698     1    1\n",
      "648 ENSDNOG00000035200 protein_coding CLEC12A JH564093 416699     1    1\n",
      "649 ENSDNOG00000035200 protein_coding CLEC12A JH564093 416703     1    1\n"
     ]
    }
   ],
   "source": [
    "print(head(sig_df))\n",
    "saveRDS(all_df, 'simple_t0_all_summary.rds')\n",
    "saveRDS(sig_df, 'simple_t0_sig_summary.rds')"
   ]
  },
  {
   "cell_type": "code",
   "execution_count": null,
   "metadata": {},
   "outputs": [],
   "source": []
  }
 ],
 "metadata": {
  "kernelspec": {
   "display_name": "R",
   "language": "R",
   "name": "ir"
  },
  "language_info": {
   "codemirror_mode": "r",
   "file_extension": ".r",
   "mimetype": "text/x-r-source",
   "name": "R",
   "pygments_lexer": "r",
   "version": "3.6.1"
  }
 },
 "nbformat": 4,
 "nbformat_minor": 4
}
