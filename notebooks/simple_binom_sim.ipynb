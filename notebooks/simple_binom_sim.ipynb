{
 "cells": [
  {
   "cell_type": "markdown",
   "metadata": {},
   "source": [
    "# Armadillo ASE analysis (200219)\n",
    "Simple model (common p for each quad for each SNP)"
   ]
  },
  {
   "cell_type": "code",
   "execution_count": 171,
   "metadata": {},
   "outputs": [],
   "source": [
    "require(viridis)\n",
    "require(ggplot2)\n",
    "require(dplyr)\n",
    "require(parallel)\n",
    "\n",
    "set.seed(42)"
   ]
  },
  {
   "cell_type": "code",
   "execution_count": 172,
   "metadata": {},
   "outputs": [],
   "source": [
    "load(\"data/exprs_all.Rdata\")\n",
    "load(\"data/metadata.Rdata\")\n",
    "#source(\"data/useful.r\")\n",
    "load(\"data/ase_ratios.test_train.Rdata\")\n",
    "#load(\"data/gene_annotations_v0.95.Rdata\")\n",
    "#load(\"data/armadillo.helper.Rdata\")"
   ]
  },
  {
   "cell_type": "code",
   "execution_count": 173,
   "metadata": {},
   "outputs": [],
   "source": [
    "# Variables \n",
    "n_quads = 5\n",
    "n_times = 3 \n",
    "n_qt = n_quads * n_times\n",
    "n_q = 4 \n",
    "n_samp = n_quads * n_q\n",
    "r_samp = 1:n_samp \n",
    "\n",
    "# Labels \n",
    "quad = as.numeric(pData$Quad)\n",
    "sex = as.numeric(pData$Sex)\n",
    "lane = as.numeric(pData$Batches)\n",
    "tlab = c(\"t1\", \"t2\", \"t3\")\n",
    "quads = unique(substr(pData$ID, 1,4))\n",
    "\n",
    "labels = paste(sapply(1:n_quads, function(i) rep(quads[i],n_times)), tlab  ) \n",
    "sexlabels = unlist(lapply(1:n_quads, function(i) rep(unique(cbind(pData$Quad, pData$Sex) )[i,2],n_times)) ) \n",
    "timelabels = rep(1:n_times, n_quads)\n",
    "quadlabels = unlist(lapply(1:n_quads, function(i) rep(unique(cbind(pData$Quad, pData$Sex) )[i,1],n_times))   ) \n"
   ]
  },
  {
   "cell_type": "code",
   "execution_count": 174,
   "metadata": {},
   "outputs": [],
   "source": [
    "exprs.all.filt = lapply( 1:5, function(i) exprs.all[[i]][!is.na(exprs.all[[i]][,1]),]) \n",
    "ratios = list() \n",
    "for(j in 1:5){ \n",
    "  X.temp = (exprs.all.filt[[j]][,7:18]) \n",
    "  nj = dim(X.temp)[1]/2\n",
    "  ratios[[j]] = cbind((X.temp[(1:nj),1:4] / (X.temp[(1:nj)+nj,1:4] +X.temp[(1:nj),1:4] ) ),\n",
    "                      (X.temp[(1:nj),5:8] / (X.temp[(1:nj)+nj,5:8] +X.temp[(1:nj),5:8] ) ),\n",
    "                      (X.temp[(1:nj),9:12] / (X.temp[(1:nj)+nj,9:12] +X.temp[(1:nj),9:12] ) ))\n",
    "  \n",
    "}\n",
    "density.plot = lapply(1:5, function(i) density( ratios[[i]][!is.na(ratios[[i]])] )  )\n",
    "\n",
    "\n"
   ]
  },
  {
   "cell_type": "code",
   "execution_count": 175,
   "metadata": {},
   "outputs": [],
   "source": [
    "ase_cov = list()\n",
    "for (i in 1:5) {\n",
    "    X.temp = exprs.all.filt[[i]][,7:18]\n",
    "    nj = dim(X.temp)[1]/2\n",
    "    allele_a = X.temp[1:nj,]\n",
    "    allele_b = X.temp[1:nj+nj,]\n",
    "    ase_cov[[i]] = lapply(1:12, function(j) {\n",
    "        df = data.frame(major=allele_a[,j], minor=allele_b[,j])\n",
    "        df = cbind(df, cov=rowSums(df))\n",
    "        df = cbind(df, ratio=allele_a[,j]/df$cov)\n",
    "        return(df)\n",
    "    })\n",
    "}"
   ]
  },
  {
   "cell_type": "markdown",
   "metadata": {},
   "source": [
    "summarize.one.pair.data.simple <- function(data) {\n",
    "    tdf <- data %>% group_by(gene) %>% summarise(\n",
    "       mean_cov = mean(cov),\n",
    "       cor = min(cor),\n",
    "       scor = min(scor),\n",
    "       prob = sum(prob, na.rm=TRUE),\n",
    "       pvalue  = sum(pvalue, na.rm=TRUE),\n",
    "       prob_fixed = sum(prob_fixed, na.rm=TRUE),\n",
    "        pvalue_fixed = sum(pvalue_fixed, na.rm=TRUE),\n",
    "        p = min(p),\n",
    "        p_fixed = min(p_fixed)\n",
    "    )\n",
    "    tdf <- cbind(tdf, exp_pvalue = exp(tdf$pvalue))\n",
    "    tdf <- cbind(tdf, exp_pvalue_fixed = exp(tdf$pvalue_fixed))\n",
    "    tdf <- cbind(tdf, exp_prob=exp(tdf$prob))\n",
    "    tdf <- cbind(tdf, exp_prob_fixed=exp(tdf$prob_fixed))\n",
    "    return(tdf)\n",
    "}\n",
    "summarize.one.data.simple <- function(data) {\n",
    "    data[,'gene'] = as.numeric(as.character(data[,'gene']))\n",
    "    tdf <- data %>% group_by(gene) %>% summarise(\n",
    "       mean_cov = mean(cov),\n",
    "       prob = sum(prob, na.rm=TRUE),\n",
    "       pvalue  = sum(pvalue, na.rm=TRUE),\n",
    "       prob_fixed = sum(prob_fixed, na.rm=TRUE),\n",
    "       pvalue_fixed = sum(pvalue_fixed, na.rm=TRUE),\n",
    "       p = min(p),\n",
    "       p_fixed = min(p_fixed)      \n",
    "    )\n",
    "    return(tdf)\n",
    "}"
   ]
  },
  {
   "cell_type": "code",
   "execution_count": 176,
   "metadata": {},
   "outputs": [],
   "source": [
    "estimate.p.for.quad <- function(ase_cov, ident, time, g) {\n",
    "    n = sum(unlist(lapply(1:4, function(x){return(ase_cov[[ident]][[time*4+x]][g, 3])})), na.rm=T)\n",
    "    ny = sum(unlist(lapply(1:4, function(x){return(ase_cov[[ident]][[time*4+x]][g, 1])})), na.rm=T)\n",
    "    return(ny/n)\n",
    "}\n",
    "estimate.p.for.quad.fixed <- function(ase_cov, ident, time, g) {\n",
    "    return(mean(estimate.p.for.each(ase_cov, ident, time, g), na.rm=T))\n",
    "}\n",
    "estimate.p.for.each <- function(ase_cov, ident, time, g) {\n",
    "    return(unlist(lapply(1:4, function(x){return(ase_cov[[ident]][[time*4+x]][g,4])})))\n",
    "}"
   ]
  },
  {
   "cell_type": "code",
   "execution_count": 177,
   "metadata": {},
   "outputs": [],
   "source": [
    "compute.prob <- function(major, cov, p) {\n",
    "    return(unlist(sapply(1:4, function(x) {return(dbinom(major[x], cov[x], p, log=TRUE))})))\n",
    "}\n",
    "compute.pvalue <- function(major, cov, p) {\n",
    "    return(unlist(sapply(1:4, function(x) {\n",
    "                #if (cov[x] == 0) return(1);\n",
    "                if (cov[x] == 0) return(0.5);\n",
    "                if (major[x]/cov[x] < p) return(pbinom(major[x], cov[x], p, log=TRUE, lower.tail=TRUE))\n",
    "                else return(pbinom(major[x], cov[x], p, log=TRUE, lower.tail=FALSE))\n",
    "    })))\n",
    "}\n"
   ]
  },
  {
   "cell_type": "code",
   "execution_count": 178,
   "metadata": {},
   "outputs": [],
   "source": [
    "# add excess_prob independently\n",
    "compute.simple.pvalue <- function(ase_cov, ident, time, gene_set=NULL, verbose=FALSE) {\n",
    "    if (is.null(gene_set))\n",
    "        gene_set = 1:dim(ase_cov[[ident]][[1]][1])[1]\n",
    "    df <- do.call(rbind, lapply(gene_set, function(g) {\n",
    "        x_cord <- unlist(lapply(1:4, function(x){return(ase_cov[[ident]][[time*4+x]][g,4])}))\n",
    "        x_major <- unlist(lapply(1:4, function(x){return(ase_cov[[ident]][[time*4+x]][g,1])}))\n",
    "        x_cov <- unlist(lapply(1:4, function(x){return(ase_cov[[ident]][[time*4+x]][g,3])}))\n",
    "        if (sum(is.nan(x_cord)) >= 2)\n",
    "            return(NULL)\n",
    "        p <- estimate.p.for.quad(ase_cov, ident, time, g)\n",
    "        p_fixed <- estimate.p.for.quad.fixed(ase_cov, ident, time, g)\n",
    "        prob = compute.prob(x_major, x_cov, p)\n",
    "        pvalue = compute.pvalue(x_major, x_cov, p)\n",
    "        p_fixed <- estimate.p.for.quad.fixed(ase_cov, ident, time, g)\n",
    "        prob_fixed = compute.prob(x_major, x_cov, p_fixed)\n",
    "        pvalue_fixed = compute.pvalue(x_major, x_cov, p_fixed)\n",
    "#         x_cov <- x_cov[order(x_cord)]\n",
    "#         x_cord <- x_cord[order(x_cord)]\n",
    "        suppressWarnings({\n",
    "            temp = data.frame(x=x_cord, gene=g, cov=x_cov, \n",
    "                              prob=prob, pvalue=pvalue, prob_fixed=prob_fixed, pvalue_fixed=pvalue_fixed, p=rep(p, 4), p_fixed=rep(p_fixed, 4))\n",
    "            temp = temp[order(x_cord),]\n",
    "        })\n",
    "        return(temp)\n",
    "    }))\n",
    "    stopifnot(typeof(df) != 'character')\n",
    "    return(df)\n",
    "}\n",
    "compute.simple.pvalue.parallel <- function(ident) {\n",
    "    result <- list()\n",
    "    gene_set = sample(1:dim(ase_cov[[ident]][[1]][1])[1], 2000)\n",
    "    gene_set = c(941, 583, 3602)\n",
    "    result <- mclapply(0:2, function(x) {return(compute.simple.pvalue(ase_cov, ident, x))}, mc.cores=1)\n",
    "    return(result)\n",
    "}\n"
   ]
  },
  {
   "cell_type": "code",
   "execution_count": 179,
   "metadata": {},
   "outputs": [
    {
     "name": "stdout",
     "output_type": "stream",
     "text": [
      "NULL\n",
      "[1] 5\n",
      "[1] 3\n",
      "           x gene cov      prob     pvalue prob_fixed pvalue_fixed         p\n",
      "3  0.2222222    1   9 -2.341022 -2.0618795  -2.164130   -1.8613140 0.4666667\n",
      "2  0.4444444    1   9 -1.355322 -0.5420633  -1.346407   -0.4600742 0.4666667\n",
      "4  0.5333333    1  15 -1.727874 -1.5201483  -1.825002   -1.7535983 0.4666667\n",
      "1  0.5833333    1  12 -1.803462 -1.9959498  -1.931558   -2.2424771 0.4666667\n",
      "11 0.3181818    2  22 -2.295162 -1.6101182  -2.305712   -1.6240151 0.4302326\n",
      "41 0.3809524    2  21 -1.836914 -0.8890645  -1.841369   -0.8983318 0.4302326\n",
      "     p_fixed\n",
      "3  0.4458333\n",
      "2  0.4458333\n",
      "4  0.4458333\n",
      "1  0.4458333\n",
      "11 0.4312771\n",
      "41 0.4312771\n",
      "             x gene  cov      prob     pvalue prob_fixed pvalue_fixed\n",
      "2  0.000000000    1  932 -2.852931 -2.8529311  -2.475721   -2.4757215\n",
      "4  0.000000000    1  679 -2.078477 -2.0784766  -1.803664   -1.8036640\n",
      "3  0.003436426    1  873 -1.514084 -1.2772353  -1.586807   -1.5910511\n",
      "1  0.007174888    1 1115 -4.209643 -4.7908547  -4.894508   -5.6771184\n",
      "21 0.000000000    2  965 -2.321883 -2.3218832  -2.285634   -2.2856345\n",
      "41 0.001408451    2  710 -1.171610 -0.7112377  -1.160693   -0.6944801\n",
      "             p     p_fixed\n",
      "2  0.003056405 0.002652829\n",
      "4  0.003056405 0.002652829\n",
      "3  0.003056405 0.002652829\n",
      "1  0.003056405 0.002652829\n",
      "21 0.002403204 0.002365730\n",
      "41 0.002403204 0.002365730\n"
     ]
    }
   ],
   "source": [
    "rdf <- mclapply(1:5, compute.simple.pvalue.parallel, mc.cores=5)\n",
    "saveRDS(rdf, 'simple_independent_result.rds')\n",
    "# print(compute.simple.pvalue.parallel(1))\n",
    "print(names(rdf))\n",
    "print(length(rdf))\n",
    "print(length(rdf[[1]]))\n",
    "print(head(rdf[[1]][[1]]))\n",
    "print(head(rdf[[5]][[1]]))"
   ]
  },
  {
   "cell_type": "code",
   "execution_count": 166,
   "metadata": {},
   "outputs": [
    {
     "name": "stdout",
     "output_type": "stream",
     "text": [
      "           x gene cov      prob     pvalue prob_fixed pvalue_fixed         p\n",
      "3  0.2222222    1   9 -2.341022 -2.0618795  -2.164130   -1.8613140 0.4666667\n",
      "2  0.4444444    1   9 -1.355322 -0.5420633  -1.346407   -0.4600742 0.4666667\n",
      "4  0.5333333    1  15 -1.727874 -0.2467698  -1.825002   -0.1901317 0.4666667\n",
      "1  0.5833333    1  12 -1.803462 -0.1460489  -1.931558   -0.1122678 0.4666667\n",
      "11 0.3181818    2  22 -2.295162 -1.6101182  -2.305712   -1.6240151 0.4302326\n",
      "41 0.3809524    2  21 -1.836914 -0.8890645  -1.841369   -0.8983318 0.4302326\n",
      "     p_fixed\n",
      "3  0.4458333\n",
      "2  0.4458333\n",
      "4  0.4458333\n",
      "1  0.4458333\n",
      "11 0.4312771\n",
      "41 0.4312771\n",
      "           x gene cov      prob      pvalue prob_fixed pvalue_fixed         p\n",
      "2  0.3181818    1  22 -3.447371 -2.98114939  -4.417393  -4.04339153 0.5147059\n",
      "4  0.4000000    1  20 -2.245480 -1.55472488  -2.801312  -2.25184154 0.5147059\n",
      "1  0.7692308    1  13 -3.154605 -0.01480632  -2.559613  -0.03436101 0.5147059\n",
      "3  0.7692308    1  13 -3.154605 -0.01480632  -2.559613  -0.03436101 0.5147059\n",
      "21 0.2272727    2  22 -5.220454 -4.93107327  -6.478870  -6.24187977 0.5061728\n",
      "41 0.4666667    2  30 -2.026239 -0.91329751  -2.384143  -1.51390736 0.5061728\n",
      "     p_fixed\n",
      "2  0.5641608\n",
      "4  0.5641608\n",
      "1  0.5641608\n",
      "3  0.5641608\n",
      "21 0.5532468\n",
      "41 0.5532468\n",
      "           x gene cov      prob      pvalue prob_fixed pvalue_fixed         p\n",
      "3  0.3333333    1  12 -2.602680 -2.22363119  -2.680292  -2.31252220 0.5526316\n",
      "1  0.4285714    1   7 -1.441334 -0.95156652  -1.467263  -0.99140647 0.5526316\n",
      "4  0.7272727    1  11 -2.051683 -0.06984515  -1.997081  -0.07672930 0.5526316\n",
      "2  0.7500000    1   8 -1.834923 -0.06724919  -1.789937  -0.07290338 0.5526316\n",
      "41 0.3500000    2  20 -1.807569 -0.89995337  -1.832847  -0.94909557 0.4025974\n",
      "21 0.3750000    2  16 -1.622353 -0.65664392  -1.633442  -0.69232515 0.4025974\n",
      "     p_fixed\n",
      "3  0.5597944\n",
      "1  0.5597944\n",
      "4  0.5597944\n",
      "2  0.5597944\n",
      "41 0.4081019\n",
      "21 0.4081019\n",
      "           x gene cov      prob     pvalue prob_fixed pvalue_fixed         p\n",
      "2  0.4841270    1 126 -3.357472 -2.0067758  -3.245784   -1.8531903 0.5372263\n",
      "1  0.5297297    1 185 -2.856451 -0.8045504  -2.839283   -0.7046047 0.5372263\n",
      "3  0.5572917    1 192 -3.005079 -0.3075619  -3.079355   -0.2573852 0.5372263\n",
      "4  0.5604396    1 182 -3.019603 -0.2764893  -3.099982   -0.2313922 0.5372263\n",
      "21 0.4796748    2 123 -3.150529 -1.7332837  -3.038069   -1.5661860 0.5255172\n",
      "11 0.5133690    2 187 -2.897625 -0.9232330  -2.859994   -0.7898201 0.5255172\n",
      "     p_fixed\n",
      "2  0.5328970\n",
      "1  0.5328970\n",
      "3  0.5328970\n",
      "4  0.5328970\n",
      "21 0.5202376\n",
      "11 0.5202376\n",
      "           x gene cov      prob     pvalue prob_fixed pvalue_fixed         p\n",
      "4  0.4862385    1 109 -2.837769 -1.3332593  -2.951253   -1.5175344 0.5210526\n",
      "1  0.5238095    1 105 -2.555624 -0.5785577  -2.557459   -0.6828132 0.5210526\n",
      "2  0.5299145    1 117 -2.625652 -0.4919683  -2.608235   -0.5907269 0.5210526\n",
      "3  0.5714286    1  49 -2.416912 -0.2209705  -2.354194   -0.2560611 0.5210526\n",
      "21 0.4642857    2 112 -3.324694 -2.0338727  -3.444164   -2.1914224 0.5217391\n",
      "31 0.5348837    2  43 -2.124703 -0.4676006  -2.116315   -0.5041362 0.5217391\n",
      "     p_fixed\n",
      "4  0.5278478\n",
      "1  0.5278478\n",
      "2  0.5278478\n",
      "3  0.5278478\n",
      "21 0.5261970\n",
      "31 0.5261970\n",
      "           x gene cov      prob     pvalue prob_fixed pvalue_fixed         p\n",
      "3  0.4821429    1  56 -2.512775 -1.2982305  -2.501559   -1.2794711 0.5312500\n",
      "1  0.5098039    1  51 -2.243443 -0.8374370  -2.239044   -0.8240923 0.5312500\n",
      "2  0.5500000    1  60 -2.314591 -0.4126386  -2.319354   -0.4038816 0.5312500\n",
      "4  0.5789474    1  57 -2.501049 -0.2191162  -2.512375   -0.2138012 0.5312500\n",
      "11 0.4117647    2  51 -2.705482 -1.6636656  -2.619324   -1.5403366 0.4831933\n",
      "31 0.4615385    2  52 -2.252178 -0.8399208  -2.228309   -0.7611362 0.4831933\n",
      "     p_fixed\n",
      "3  0.5302235\n",
      "1  0.5302235\n",
      "2  0.5302235\n",
      "4  0.5302235\n",
      "11 0.4770234\n",
      "31 0.4770234\n",
      "           x gene cov      prob     pvalue prob_fixed pvalue_fixed         p\n",
      "4  0.5000000    1  72 -2.572720 -1.2046148  -2.562770   -1.1864119 0.5376884\n",
      "2  0.5140187    1 107 -2.684489 -1.0610952  -2.675271   -1.0407552 0.5376884\n",
      "1  0.5533333    1 150 -2.801057 -0.3874145  -2.810026   -0.3755805 0.5376884\n",
      "3  0.5797101    1  69 -2.580141 -0.2309906  -2.591023   -0.2255151 0.5376884\n",
      "41 0.4805195    2  77 -2.703434 -1.3754821  -2.648903   -1.2842935 0.5248756\n",
      "21 0.5096154    2 104 -2.598723 -0.8796165  -2.575773   -0.8016926 0.5248756\n",
      "     p_fixed\n",
      "4  0.5367655\n",
      "2  0.5367655\n",
      "1  0.5367655\n",
      "3  0.5367655\n",
      "41 0.5206955\n",
      "21 0.5206955\n",
      "           x gene cov      prob      pvalue prob_fixed pvalue_fixed         p\n",
      "2  0.4444444    1  27 -2.429437 -1.63761299  -2.175801  -1.27069222 0.5454545\n",
      "1  0.4615385    1  26 -2.228767 -1.37370244  -2.032134  -1.05375064 0.5454545\n",
      "4  0.5312500    1  32 -1.977554 -0.68469321  -1.974510  -0.47212292 0.5454545\n",
      "3  0.6379310    1  58 -3.239089 -0.06182429  -3.896390  -0.02530717 0.5454545\n",
      "21 0.3055556    2  36 -4.423615 -3.89598032  -4.343671  -3.80835396 0.4883721\n",
      "41 0.4090909    2  44 -2.664173 -1.69346164  -2.622267  -1.63520141 0.4883721\n",
      "     p_fixed\n",
      "2  0.5187910\n",
      "1  0.5187910\n",
      "4  0.5187910\n",
      "3  0.5187910\n",
      "21 0.4853119\n",
      "41 0.4853119\n",
      "           x gene cov      prob      pvalue prob_fixed pvalue_fixed         p\n",
      "2  0.4512195    1  82 -3.678249 -2.65272577  -3.520898  -2.45967250 0.5384615\n",
      "3  0.4747475    1  99 -3.330071 -2.11241041  -3.193046  -1.92926053 0.5384615\n",
      "1  0.6000000    1  95 -3.215439 -0.10015660  -3.354435  -0.08115179 0.5384615\n",
      "4  0.6052632    1 114 -3.607340 -0.06515824  -3.787775  -0.05072932 0.5384615\n",
      "41 0.4787234    2  94 -2.651805 -1.11908878  -2.672069  -1.15889744 0.5072115\n",
      "31 0.4806202    2 129 -2.839351 -1.19439245  -2.865366  -1.24312348 0.5072115\n",
      "     p_fixed\n",
      "2  0.5328075\n",
      "3  0.5328075\n",
      "1  0.5328075\n",
      "4  0.5328075\n",
      "41 0.5090439\n",
      "31 0.5090439\n",
      "           x gene cov      prob     pvalue prob_fixed pvalue_fixed         p\n",
      "3  0.4531250    1  64 -3.420593 -2.4625179  -3.291199   -2.3018918 0.5463576\n",
      "2  0.5373134    1  67 -2.340148 -0.7171945  -2.330756   -0.6451400 0.5463576\n",
      "4  0.5652174    1  92 -2.547072 -0.3869877  -2.591550   -0.3335749 0.5463576\n",
      "1  0.6075949    1  79 -2.993992 -0.1203957  -3.107009   -0.1004584 0.5463576\n",
      "41 0.5000000    2 100 -3.046262 -1.7183533  -3.242597   -1.9911834 0.5506329\n",
      "31 0.5466667    2  75 -2.385916 -0.6594024  -2.408319   -0.7857091 0.5506329\n",
      "     p_fixed\n",
      "3  0.5408127\n",
      "2  0.5408127\n",
      "4  0.5408127\n",
      "1  0.5408127\n",
      "41 0.5594424\n",
      "31 0.5594424\n",
      "           x gene cov      prob      pvalue prob_fixed pvalue_fixed         p\n",
      "2  0.2500000    1  20 -3.134498 -2.69667995  -3.308600  -2.89142803 0.4387755\n",
      "3  0.3611111    1  36 -2.433709 -1.50777009  -2.567885  -1.69402415 0.4387755\n",
      "4  0.5882353    1  17 -2.405614 -0.07158526  -2.295989  -0.08597209 0.4387755\n",
      "1  0.6000000    1  25 -3.132932 -0.03491526  -2.958541  -0.04479379 0.4387755\n",
      "21 0.3703704    2  27 -4.643244 -4.21259387  -5.121762  -4.72633878 0.5963303\n",
      "31 0.5142857    2  35 -2.491324 -1.57960562  -2.731736  -1.90555776 0.5963303\n",
      "     p_fixed\n",
      "2  0.4498366\n",
      "3  0.4498366\n",
      "4  0.4498366\n",
      "1  0.4498366\n",
      "21 0.6143458\n",
      "31 0.6143458\n",
      "           x gene cov      prob      pvalue prob_fixed pvalue_fixed         p\n",
      "4  0.4444444    1  18 -1.946621 -1.17388921  -1.854406  -1.02009342 0.5306122\n",
      "2  0.4838710    1  31 -2.085982 -1.00666511  -2.007467  -0.82881506 0.5306122\n",
      "3  0.5000000    1  14 -1.589450 -0.66764687  -1.568828  -0.57535491 0.5306122\n",
      "1  0.6285714    1  35 -2.661331 -0.09520667  -2.905425  -0.06512916 0.5306122\n",
      "11 0.4722222    2  36 -2.113594 -0.92198488  -2.128824  -0.95598596 0.5076923\n",
      "21 0.4893617    2  47 -2.187548 -0.78137713  -2.198197  -0.81612556 0.5076923\n",
      "     p_fixed\n",
      "4  0.5142217\n",
      "2  0.5142217\n",
      "3  0.5142217\n",
      "1  0.5142217\n",
      "11 0.5105573\n",
      "21 0.5105573\n",
      "             x gene  cov      prob       pvalue prob_fixed pvalue_fixed\n",
      "2  0.000000000    1  932 -2.852931 -2.852931127  -2.475721 -2.475721450\n",
      "4  0.000000000    1  679 -2.078477 -2.078476647  -1.803664 -1.803664018\n",
      "3  0.003436426    1  873 -1.514084 -0.326848560  -1.586807 -0.227793563\n",
      "1  0.007174888    1 1115 -4.209643 -0.008340038  -4.894508 -0.003429282\n",
      "21 0.000000000    2  965 -2.321883 -2.321883221  -2.285634 -2.285634470\n",
      "41 0.001408451    2  710 -1.171610 -0.711237735  -1.160693 -0.694480108\n",
      "             p     p_fixed\n",
      "2  0.003056405 0.002652829\n",
      "4  0.003056405 0.002652829\n",
      "3  0.003056405 0.002652829\n",
      "1  0.003056405 0.002652829\n",
      "21 0.002403204 0.002365730\n",
      "41 0.002403204 0.002365730\n",
      "             x gene cov       prob      pvalue prob_fixed pvalue_fixed\n",
      "1  0.000000000    1 534 -0.2796544 -0.27965437 -0.3028069   -0.3028069\n",
      "2  0.000000000    1 505 -0.2644671 -0.26446714 -0.2863624   -0.2863624\n",
      "3  0.000000000    1 430 -0.2251898 -0.22518985 -0.2438333   -0.2438333\n",
      "4  0.002267574    1 441 -1.6962405 -0.02311473 -1.6357982   -0.0268139\n",
      "31 0.000000000    2 436 -0.6648032 -0.66480318 -0.6006761   -0.6006761\n",
      "41 0.000000000    2 451 -0.6876748 -0.68767485 -0.6213416   -0.6213416\n",
      "              p      p_fixed\n",
      "1  0.0005235602 0.0005668934\n",
      "2  0.0005235602 0.0005668934\n",
      "3  0.0005235602 0.0005668934\n",
      "4  0.0005235602 0.0005668934\n",
      "31 0.0015236160 0.0013767489\n",
      "41 0.0015236160 0.0013767489\n",
      "             x gene cov       prob      pvalue prob_fixed pvalue_fixed\n",
      "3  0.000000000    1 378 -0.5392298 -0.53922976 -0.5498367  -0.54983674\n",
      "4  0.000000000    1 332 -0.4736092 -0.47360921 -0.4829254  -0.48292539\n",
      "2  0.002659574    1 376 -1.1585819 -0.10670074 -1.1496391  -0.11039958\n",
      "1  0.003154574    1 317 -1.2451038 -0.07890165 -1.2345054  -0.08168286\n",
      "11 0.000000000    2 327 -1.1240987 -1.12409874 -1.0960119  -1.09601188\n",
      "21 0.002577320    2 388 -1.0440469 -0.48531519 -1.0360672  -0.46640670\n",
      "             p     p_fixed\n",
      "3  0.001425517 0.001453537\n",
      "4  0.001425517 0.001453537\n",
      "2  0.001425517 0.001453537\n",
      "1  0.001425517 0.001453537\n",
      "11 0.003431709 0.003346108\n",
      "21 0.003431709 0.003346108\n"
     ]
    }
   ],
   "source": [
    "for (i in 1:5) {\n",
    "    for (j in 1:3) {\n",
    "        print(head(rdf[[i]][[j]]))\n",
    "    }\n",
    "}\n"
   ]
  },
  {
   "cell_type": "code",
   "execution_count": 180,
   "metadata": {},
   "outputs": [],
   "source": [
    "extract.gene.info <- function(genes, ident) {\n",
    "    #print(head(exprs.all.filt[[ident]]))\n",
    "    return(exprs.all.filt[[ident]][genes,1:5])\n",
    "}"
   ]
  },
  {
   "cell_type": "code",
   "execution_count": 181,
   "metadata": {},
   "outputs": [],
   "source": [
    "plot_histogram <- function(data, x, header, quant_value=-1) {\n",
    "    png(paste0(header, '.png'))\n",
    "    g <- ggplot(data, aes_string(x=x))+geom_histogram()+theme_bw()\n",
    "    if (quant_value > 0) {\n",
    "        q <- quantile(data[,x], quant_value)\n",
    "        print(q)\n",
    "        g <- g + geom_vline(xintercept=q, color='red', size=2) +\n",
    "        geom_text(label = paste(quant_value, ':', q), x=q, y=-50)\n",
    "    }\n",
    "    plot(g) \n",
    "    dev.off()\n",
    "}"
   ]
  },
  {
   "cell_type": "code",
   "execution_count": 182,
   "metadata": {},
   "outputs": [
    {
     "name": "stdout",
     "output_type": "stream",
     "text": [
      "           x gene cov      prob     pvalue prob_fixed pvalue_fixed         p\n",
      "3  0.2222222    1   9 -2.341022 -2.0618795  -2.164130   -1.8613140 0.4666667\n",
      "2  0.4444444    1   9 -1.355322 -0.5420633  -1.346407   -0.4600742 0.4666667\n",
      "4  0.5333333    1  15 -1.727874 -1.5201483  -1.825002   -1.7535983 0.4666667\n",
      "1  0.5833333    1  12 -1.803462 -1.9959498  -1.931558   -2.2424771 0.4666667\n",
      "11 0.3181818    2  22 -2.295162 -1.6101182  -2.305712   -1.6240151 0.4302326\n",
      "41 0.3809524    2  21 -1.836914 -0.8890645  -1.841369   -0.8983318 0.4302326\n",
      "     p_fixed\n",
      "3  0.4458333\n",
      "2  0.4458333\n",
      "4  0.4458333\n",
      "1  0.4458333\n",
      "11 0.4312771\n",
      "41 0.4312771\n",
      "       1% \n",
      "-16.32892 \n"
     ]
    },
    {
     "name": "stderr",
     "output_type": "stream",
     "text": [
      "`stat_bin()` using `bins = 30`. Pick better value with `binwidth`.\n",
      "\n"
     ]
    },
    {
     "name": "stdout",
     "output_type": "stream",
     "text": [
      " 1% \n",
      "-10 \n"
     ]
    },
    {
     "name": "stderr",
     "output_type": "stream",
     "text": [
      "`stat_bin()` using `bins = 30`. Pick better value with `binwidth`.\n",
      "\n",
      "`stat_bin()` using `bins = 30`. Pick better value with `binwidth`.\n",
      "\n"
     ]
    },
    {
     "name": "stdout",
     "output_type": "stream",
     "text": [
      "           x gene cov      prob     pvalue prob_fixed pvalue_fixed         p\n",
      "2  0.3181818    1  22 -3.447371 -2.9811494  -4.417393    -4.043392 0.5147059\n",
      "4  0.4000000    1  20 -2.245480 -1.5547249  -2.801312    -2.251842 0.5147059\n",
      "1  0.7692308    1  13 -3.154605 -4.2200953  -2.559613    -3.387964 0.5147059\n",
      "3  0.7692308    1  13 -3.154605 -4.2200953  -2.559613    -3.387964 0.5147059\n",
      "21 0.2272727    2  22 -5.220454 -4.9310733  -6.478870    -6.241880 0.5061728\n",
      "41 0.4666667    2  30 -2.026239 -0.9132975  -2.384143    -1.513907 0.5061728\n",
      "     p_fixed\n",
      "2  0.5641608\n",
      "4  0.5641608\n",
      "1  0.5641608\n",
      "3  0.5641608\n",
      "21 0.5532468\n",
      "41 0.5532468\n",
      "       1% \n",
      "-16.65352 \n"
     ]
    },
    {
     "name": "stderr",
     "output_type": "stream",
     "text": [
      "`stat_bin()` using `bins = 30`. Pick better value with `binwidth`.\n",
      "\n"
     ]
    },
    {
     "name": "stdout",
     "output_type": "stream",
     "text": [
      " 1% \n",
      "-10 \n"
     ]
    },
    {
     "name": "stderr",
     "output_type": "stream",
     "text": [
      "`stat_bin()` using `bins = 30`. Pick better value with `binwidth`.\n",
      "\n",
      "`stat_bin()` using `bins = 30`. Pick better value with `binwidth`.\n",
      "\n"
     ]
    },
    {
     "name": "stdout",
     "output_type": "stream",
     "text": [
      "           x gene cov      prob     pvalue prob_fixed pvalue_fixed         p\n",
      "3  0.3333333    1  12 -2.602680 -2.2236312  -2.680292   -2.3125222 0.5526316\n",
      "1  0.4285714    1   7 -1.441334 -0.9515665  -1.467263   -0.9914065 0.5526316\n",
      "4  0.7272727    1  11 -2.051683 -2.6961940  -1.997081   -2.6055910 0.5526316\n",
      "2  0.7500000    1   8 -1.834923 -2.7327864  -1.789937   -2.6548506 0.5526316\n",
      "41 0.3500000    2  20 -1.807569 -0.8999534  -1.832847   -0.9490956 0.4025974\n",
      "21 0.3750000    2  16 -1.622353 -0.6566439  -1.633442   -0.6923252 0.4025974\n",
      "     p_fixed\n",
      "3  0.5597944\n",
      "1  0.5597944\n",
      "4  0.5597944\n",
      "2  0.5597944\n",
      "41 0.4081019\n",
      "21 0.4081019\n",
      "       1% \n",
      "-15.43038 \n"
     ]
    },
    {
     "name": "stderr",
     "output_type": "stream",
     "text": [
      "`stat_bin()` using `bins = 30`. Pick better value with `binwidth`.\n",
      "\n"
     ]
    },
    {
     "name": "stdout",
     "output_type": "stream",
     "text": [
      " 1% \n",
      "-10 \n"
     ]
    },
    {
     "name": "stderr",
     "output_type": "stream",
     "text": [
      "`stat_bin()` using `bins = 30`. Pick better value with `binwidth`.\n",
      "\n",
      "`stat_bin()` using `bins = 30`. Pick better value with `binwidth`.\n",
      "\n"
     ]
    },
    {
     "name": "stdout",
     "output_type": "stream",
     "text": [
      "           x gene cov      prob     pvalue prob_fixed pvalue_fixed         p\n",
      "2  0.4841270    1 126 -3.357472 -2.0067758  -3.245784   -1.8531903 0.5372263\n",
      "1  0.5297297    1 185 -2.856451 -0.8045504  -2.839283   -0.7046047 0.5372263\n",
      "3  0.5572917    1 192 -3.005079 -1.3289216  -3.079355   -1.4831153 0.5372263\n",
      "4  0.5604396    1 182 -3.019603 -1.4206445  -3.099982   -1.5771072 0.5372263\n",
      "21 0.4796748    2 123 -3.150529 -1.7332837  -3.038069   -1.5661860 0.5255172\n",
      "11 0.5133690    2 187 -2.897625 -0.9232330  -2.859994   -0.7898201 0.5255172\n",
      "     p_fixed\n",
      "2  0.5328970\n",
      "1  0.5328970\n",
      "3  0.5328970\n",
      "4  0.5328970\n",
      "21 0.5202376\n",
      "11 0.5202376\n",
      "       1% \n",
      "-16.29455 \n"
     ]
    },
    {
     "name": "stderr",
     "output_type": "stream",
     "text": [
      "`stat_bin()` using `bins = 30`. Pick better value with `binwidth`.\n",
      "\n"
     ]
    },
    {
     "name": "stdout",
     "output_type": "stream",
     "text": [
      " 1% \n",
      "-10 \n"
     ]
    },
    {
     "name": "stderr",
     "output_type": "stream",
     "text": [
      "`stat_bin()` using `bins = 30`. Pick better value with `binwidth`.\n",
      "\n",
      "`stat_bin()` using `bins = 30`. Pick better value with `binwidth`.\n",
      "\n"
     ]
    },
    {
     "name": "stdout",
     "output_type": "stream",
     "text": [
      "           x gene cov      prob     pvalue prob_fixed pvalue_fixed         p\n",
      "4  0.4862385    1 109 -2.837769 -1.3332593  -2.951253   -1.5175344 0.5210526\n",
      "1  0.5238095    1 105 -2.555624 -0.8225874  -2.557459   -0.6828132 0.5210526\n",
      "2  0.5299145    1 117 -2.625652 -0.9452607  -2.608235   -0.8072670 0.5210526\n",
      "3  0.5714286    1  49 -2.416912 -1.6181775  -2.354194   -1.4876392 0.5210526\n",
      "21 0.4642857    2 112 -3.324694 -2.0338727  -3.444164   -2.1914224 0.5217391\n",
      "31 0.5348837    2  43 -2.124703 -0.9848472  -2.116315   -0.9264095 0.5217391\n",
      "     p_fixed\n",
      "4  0.5278478\n",
      "1  0.5278478\n",
      "2  0.5278478\n",
      "3  0.5278478\n",
      "21 0.5261970\n",
      "31 0.5261970\n",
      "       1% \n",
      "-16.88029 \n"
     ]
    },
    {
     "name": "stderr",
     "output_type": "stream",
     "text": [
      "`stat_bin()` using `bins = 30`. Pick better value with `binwidth`.\n",
      "\n"
     ]
    },
    {
     "name": "stdout",
     "output_type": "stream",
     "text": [
      " 1% \n",
      "-10 \n"
     ]
    },
    {
     "name": "stderr",
     "output_type": "stream",
     "text": [
      "`stat_bin()` using `bins = 30`. Pick better value with `binwidth`.\n",
      "\n",
      "`stat_bin()` using `bins = 30`. Pick better value with `binwidth`.\n",
      "\n"
     ]
    },
    {
     "name": "stdout",
     "output_type": "stream",
     "text": [
      "           x gene cov      prob     pvalue prob_fixed pvalue_fixed         p\n",
      "3  0.4821429    1  56 -2.512775 -1.2982305  -2.501559   -1.2794711 0.5312500\n",
      "1  0.5098039    1  51 -2.243443 -0.8374370  -2.239044   -0.8240923 0.5312500\n",
      "2  0.5500000    1  60 -2.314591 -1.0844179  -2.319354   -1.1017869 0.5312500\n",
      "4  0.5789474    1  57 -2.501049 -1.6257113  -2.512375   -1.6477053 0.5312500\n",
      "11 0.4117647    2  51 -2.705482 -1.6636656  -2.619324   -1.5403366 0.4831933\n",
      "31 0.4615385    2  52 -2.252178 -0.8399208  -2.228309   -0.7611362 0.4831933\n",
      "     p_fixed\n",
      "3  0.5302235\n",
      "1  0.5302235\n",
      "2  0.5302235\n",
      "4  0.5302235\n",
      "11 0.4770234\n",
      "31 0.4770234\n",
      "       1% \n",
      "-16.26572 \n"
     ]
    },
    {
     "name": "stderr",
     "output_type": "stream",
     "text": [
      "`stat_bin()` using `bins = 30`. Pick better value with `binwidth`.\n",
      "\n"
     ]
    },
    {
     "name": "stdout",
     "output_type": "stream",
     "text": [
      " 1% \n",
      "-10 \n"
     ]
    },
    {
     "name": "stderr",
     "output_type": "stream",
     "text": [
      "`stat_bin()` using `bins = 30`. Pick better value with `binwidth`.\n",
      "\n",
      "`stat_bin()` using `bins = 30`. Pick better value with `binwidth`.\n",
      "\n"
     ]
    },
    {
     "name": "stdout",
     "output_type": "stream",
     "text": [
      "           x gene cov      prob     pvalue prob_fixed pvalue_fixed         p\n",
      "4  0.5000000    1  72 -2.572720 -1.2046148  -2.562770   -1.1864119 0.5376884\n",
      "2  0.5140187    1 107 -2.684489 -1.0610952  -2.675271   -1.0407552 0.5376884\n",
      "1  0.5533333    1 150 -2.801057 -1.1357215  -2.810026   -1.1612021 0.5376884\n",
      "3  0.5797101    1  69 -2.580141 -1.5786514  -2.591023   -1.6000075 0.5376884\n",
      "41 0.4805195    2  77 -2.703434 -1.3754821  -2.648903   -1.2842935 0.5248756\n",
      "21 0.5096154    2 104 -2.598723 -0.8796165  -2.575773   -0.8016926 0.5248756\n",
      "     p_fixed\n",
      "4  0.5367655\n",
      "2  0.5367655\n",
      "1  0.5367655\n",
      "3  0.5367655\n",
      "41 0.5206955\n",
      "21 0.5206955\n",
      "       1% \n",
      "-16.60202 \n"
     ]
    },
    {
     "name": "stderr",
     "output_type": "stream",
     "text": [
      "`stat_bin()` using `bins = 30`. Pick better value with `binwidth`.\n",
      "\n"
     ]
    },
    {
     "name": "stdout",
     "output_type": "stream",
     "text": [
      " 1% \n",
      "-10 \n"
     ]
    },
    {
     "name": "stderr",
     "output_type": "stream",
     "text": [
      "`stat_bin()` using `bins = 30`. Pick better value with `binwidth`.\n",
      "\n",
      "`stat_bin()` using `bins = 30`. Pick better value with `binwidth`.\n",
      "\n"
     ]
    },
    {
     "name": "stdout",
     "output_type": "stream",
     "text": [
      "           x gene cov      prob     pvalue prob_fixed pvalue_fixed         p\n",
      "2  0.4444444    1  27 -2.429437 -1.6376130  -2.175801    -1.270692 0.5454545\n",
      "1  0.4615385    1  26 -2.228767 -1.3737024  -2.032134    -1.053751 0.5454545\n",
      "4  0.5312500    1  32 -1.977554 -0.6846932  -1.974510    -0.977307 0.5454545\n",
      "3  0.6379310    1  58 -3.239089 -2.8142119  -3.896390    -3.689295 0.5454545\n",
      "21 0.3055556    2  36 -4.423615 -3.8959803  -4.343671    -3.808354 0.4883721\n",
      "41 0.4090909    2  44 -2.664173 -1.6934616  -2.622267    -1.635201 0.4883721\n",
      "     p_fixed\n",
      "2  0.5187910\n",
      "1  0.5187910\n",
      "4  0.5187910\n",
      "3  0.5187910\n",
      "21 0.4853119\n",
      "41 0.4853119\n",
      "       1% \n",
      "-15.85913 \n"
     ]
    },
    {
     "name": "stderr",
     "output_type": "stream",
     "text": [
      "`stat_bin()` using `bins = 30`. Pick better value with `binwidth`.\n",
      "\n"
     ]
    },
    {
     "name": "stdout",
     "output_type": "stream",
     "text": [
      " 1% \n",
      "-10 \n"
     ]
    },
    {
     "name": "stderr",
     "output_type": "stream",
     "text": [
      "`stat_bin()` using `bins = 30`. Pick better value with `binwidth`.\n",
      "\n",
      "`stat_bin()` using `bins = 30`. Pick better value with `binwidth`.\n",
      "\n"
     ]
    },
    {
     "name": "stdout",
     "output_type": "stream",
     "text": [
      "           x gene cov      prob    pvalue prob_fixed pvalue_fixed         p\n",
      "2  0.4512195    1  82 -3.678249 -2.652726  -3.520898    -2.459672 0.5384615\n",
      "3  0.4747475    1  99 -3.330071 -2.112410  -3.193046    -1.929261 0.5384615\n",
      "1  0.6000000    1  95 -3.215439 -2.350681  -3.354435    -2.551735 0.5384615\n",
      "4  0.6052632    1 114 -3.607340 -2.763339  -3.787775    -3.006509 0.5384615\n",
      "41 0.4787234    2  94 -2.651805 -1.119089  -2.672069    -1.158897 0.5072115\n",
      "31 0.4806202    2 129 -2.839351 -1.194392  -2.865366    -1.243123 0.5072115\n",
      "     p_fixed\n",
      "2  0.5328075\n",
      "3  0.5328075\n",
      "1  0.5328075\n",
      "4  0.5328075\n",
      "41 0.5090439\n",
      "31 0.5090439\n",
      "       1% \n",
      "-15.69983 \n"
     ]
    },
    {
     "name": "stderr",
     "output_type": "stream",
     "text": [
      "`stat_bin()` using `bins = 30`. Pick better value with `binwidth`.\n",
      "\n"
     ]
    },
    {
     "name": "stdout",
     "output_type": "stream",
     "text": [
      " 1% \n",
      "-10 \n"
     ]
    },
    {
     "name": "stderr",
     "output_type": "stream",
     "text": [
      "`stat_bin()` using `bins = 30`. Pick better value with `binwidth`.\n",
      "\n",
      "`stat_bin()` using `bins = 30`. Pick better value with `binwidth`.\n",
      "\n"
     ]
    },
    {
     "name": "stdout",
     "output_type": "stream",
     "text": [
      "           x gene cov      prob     pvalue prob_fixed pvalue_fixed         p\n",
      "3  0.4531250    1  64 -3.420593 -2.4625179  -3.291199   -2.3018918 0.5463576\n",
      "2  0.5373134    1  67 -2.340148 -0.7171945  -2.330756   -0.6451400 0.5463576\n",
      "4  0.5652174    1  92 -2.547072 -1.1366240  -2.591550   -1.2600432 0.5463576\n",
      "1  0.6075949    1  79 -2.993992 -2.1765658  -3.107009   -2.3478203 0.5463576\n",
      "41 0.5000000    2 100 -3.046262 -1.7183533  -3.242597   -1.9911834 0.5506329\n",
      "31 0.5466667    2  75 -2.385916 -0.6594024  -2.408319   -0.7857091 0.5506329\n",
      "     p_fixed\n",
      "3  0.5408127\n",
      "2  0.5408127\n",
      "4  0.5408127\n",
      "1  0.5408127\n",
      "41 0.5594424\n",
      "31 0.5594424\n",
      "       1% \n",
      "-16.22136 \n"
     ]
    },
    {
     "name": "stderr",
     "output_type": "stream",
     "text": [
      "`stat_bin()` using `bins = 30`. Pick better value with `binwidth`.\n",
      "\n"
     ]
    },
    {
     "name": "stdout",
     "output_type": "stream",
     "text": [
      " 1% \n",
      "-10 \n"
     ]
    },
    {
     "name": "stderr",
     "output_type": "stream",
     "text": [
      "`stat_bin()` using `bins = 30`. Pick better value with `binwidth`.\n",
      "\n",
      "`stat_bin()` using `bins = 30`. Pick better value with `binwidth`.\n",
      "\n"
     ]
    },
    {
     "name": "stdout",
     "output_type": "stream",
     "text": [
      "           x gene cov      prob    pvalue prob_fixed pvalue_fixed         p\n",
      "2  0.2500000    1  20 -3.134498 -2.696680  -3.308600    -2.891428 0.4387755\n",
      "3  0.3611111    1  36 -2.433709 -1.507770  -2.567885    -1.694024 0.4387755\n",
      "4  0.5882353    1  17 -2.405614 -2.672445  -2.295989    -2.496411 0.4387755\n",
      "1  0.6000000    1  25 -3.132932 -3.372238  -2.958541    -3.127999 0.4387755\n",
      "21 0.3703704    2  27 -4.643244 -4.212594  -5.121762    -4.726339 0.5963303\n",
      "31 0.5142857    2  35 -2.491324 -1.579606  -2.731736    -1.905558 0.5963303\n",
      "     p_fixed\n",
      "2  0.4498366\n",
      "3  0.4498366\n",
      "4  0.4498366\n",
      "1  0.4498366\n",
      "21 0.6143458\n",
      "31 0.6143458\n",
      "       1% \n",
      "-16.03198 \n"
     ]
    },
    {
     "name": "stderr",
     "output_type": "stream",
     "text": [
      "`stat_bin()` using `bins = 30`. Pick better value with `binwidth`.\n",
      "\n"
     ]
    },
    {
     "name": "stdout",
     "output_type": "stream",
     "text": [
      " 1% \n",
      "-10 \n"
     ]
    },
    {
     "name": "stderr",
     "output_type": "stream",
     "text": [
      "`stat_bin()` using `bins = 30`. Pick better value with `binwidth`.\n",
      "\n",
      "`stat_bin()` using `bins = 30`. Pick better value with `binwidth`.\n",
      "\n"
     ]
    },
    {
     "name": "stdout",
     "output_type": "stream",
     "text": [
      "           x gene cov      prob     pvalue prob_fixed pvalue_fixed         p\n",
      "4  0.4444444    1  18 -1.946621 -1.1738892  -1.854406   -1.0200934 0.5306122\n",
      "2  0.4838710    1  31 -2.085982 -1.0066651  -2.007467   -0.8288151 0.5306122\n",
      "3  0.5000000    1  14 -1.589450 -0.6676469  -1.568828   -0.5753549 0.5306122\n",
      "1  0.6285714    1  35 -2.661331 -2.3989310  -2.905425   -2.7637708 0.5306122\n",
      "11 0.4722222    2  36 -2.113594 -0.9219849  -2.128824   -0.9559860 0.5076923\n",
      "21 0.4893617    2  47 -2.187548 -0.7813771  -2.198197   -0.8161256 0.5076923\n",
      "     p_fixed\n",
      "4  0.5142217\n",
      "2  0.5142217\n",
      "3  0.5142217\n",
      "1  0.5142217\n",
      "11 0.5105573\n",
      "21 0.5105573\n",
      "       1% \n",
      "-15.47152 \n"
     ]
    },
    {
     "name": "stderr",
     "output_type": "stream",
     "text": [
      "`stat_bin()` using `bins = 30`. Pick better value with `binwidth`.\n",
      "\n"
     ]
    },
    {
     "name": "stdout",
     "output_type": "stream",
     "text": [
      " 1% \n",
      "-10 \n"
     ]
    },
    {
     "name": "stderr",
     "output_type": "stream",
     "text": [
      "`stat_bin()` using `bins = 30`. Pick better value with `binwidth`.\n",
      "\n",
      "`stat_bin()` using `bins = 30`. Pick better value with `binwidth`.\n",
      "\n"
     ]
    },
    {
     "name": "stdout",
     "output_type": "stream",
     "text": [
      "             x gene  cov      prob     pvalue prob_fixed pvalue_fixed\n",
      "2  0.000000000    1  932 -2.852931 -2.8529311  -2.475721   -2.4757215\n",
      "4  0.000000000    1  679 -2.078477 -2.0784766  -1.803664   -1.8036640\n",
      "3  0.003436426    1  873 -1.514084 -1.2772353  -1.586807   -1.5910511\n",
      "1  0.007174888    1 1115 -4.209643 -4.7908547  -4.894508   -5.6771184\n",
      "21 0.000000000    2  965 -2.321883 -2.3218832  -2.285634   -2.2856345\n",
      "41 0.001408451    2  710 -1.171610 -0.7112377  -1.160693   -0.6944801\n",
      "             p     p_fixed\n",
      "2  0.003056405 0.002652829\n",
      "4  0.003056405 0.002652829\n",
      "3  0.003056405 0.002652829\n",
      "1  0.003056405 0.002652829\n",
      "21 0.002403204 0.002365730\n",
      "41 0.002403204 0.002365730\n",
      "       1% \n",
      "-16.36286 \n"
     ]
    },
    {
     "name": "stderr",
     "output_type": "stream",
     "text": [
      "`stat_bin()` using `bins = 30`. Pick better value with `binwidth`.\n",
      "\n"
     ]
    },
    {
     "name": "stdout",
     "output_type": "stream",
     "text": [
      " 1% \n",
      "-10 \n"
     ]
    },
    {
     "name": "stderr",
     "output_type": "stream",
     "text": [
      "`stat_bin()` using `bins = 30`. Pick better value with `binwidth`.\n",
      "\n",
      "`stat_bin()` using `bins = 30`. Pick better value with `binwidth`.\n",
      "\n"
     ]
    },
    {
     "name": "stdout",
     "output_type": "stream",
     "text": [
      "             x gene cov       prob     pvalue prob_fixed pvalue_fixed\n",
      "1  0.000000000    1 534 -0.2796544 -0.2796544 -0.3028069   -0.3028069\n",
      "2  0.000000000    1 505 -0.2644671 -0.2644671 -0.2863624   -0.2863624\n",
      "3  0.000000000    1 430 -0.2251898 -0.2251898 -0.2438333   -0.2438333\n",
      "4  0.002267574    1 441 -1.6962405 -3.7788202 -1.6357982   -3.6322118\n",
      "31 0.000000000    2 436 -0.6648032 -0.6648032 -0.6006761   -0.6006761\n",
      "41 0.000000000    2 451 -0.6876748 -0.6876748 -0.6213416   -0.6213416\n",
      "              p      p_fixed\n",
      "1  0.0005235602 0.0005668934\n",
      "2  0.0005235602 0.0005668934\n",
      "3  0.0005235602 0.0005668934\n",
      "4  0.0005235602 0.0005668934\n",
      "31 0.0015236160 0.0013767489\n",
      "41 0.0015236160 0.0013767489\n",
      "       1% \n",
      "-16.07205 \n"
     ]
    },
    {
     "name": "stderr",
     "output_type": "stream",
     "text": [
      "`stat_bin()` using `bins = 30`. Pick better value with `binwidth`.\n",
      "\n"
     ]
    },
    {
     "name": "stdout",
     "output_type": "stream",
     "text": [
      " 1% \n",
      "-10 \n"
     ]
    },
    {
     "name": "stderr",
     "output_type": "stream",
     "text": [
      "`stat_bin()` using `bins = 30`. Pick better value with `binwidth`.\n",
      "\n",
      "`stat_bin()` using `bins = 30`. Pick better value with `binwidth`.\n",
      "\n"
     ]
    },
    {
     "name": "stdout",
     "output_type": "stream",
     "text": [
      "             x gene cov       prob     pvalue prob_fixed pvalue_fixed\n",
      "3  0.000000000    1 378 -0.5392298 -0.5392298 -0.5498367   -0.5498367\n",
      "4  0.000000000    1 332 -0.4736092 -0.4736092 -0.4829254   -0.4829254\n",
      "2  0.002659574    1 376 -1.1585819 -2.2906032 -1.1496391   -2.2583409\n",
      "1  0.003154574    1 317 -1.2451038 -2.5787446 -1.2345054   -2.5454746\n",
      "11 0.000000000    2 327 -1.1240987 -1.1240987 -1.0960119   -1.0960119\n",
      "21 0.002577320    2 388 -1.0440469 -0.4853152 -1.0360672   -0.4664067\n",
      "             p     p_fixed\n",
      "3  0.001425517 0.001453537\n",
      "4  0.001425517 0.001453537\n",
      "2  0.001425517 0.001453537\n",
      "1  0.001425517 0.001453537\n",
      "11 0.003431709 0.003346108\n",
      "21 0.003431709 0.003346108\n",
      "       1% \n",
      "-15.86158 \n"
     ]
    },
    {
     "name": "stderr",
     "output_type": "stream",
     "text": [
      "`stat_bin()` using `bins = 30`. Pick better value with `binwidth`.\n",
      "\n"
     ]
    },
    {
     "name": "stdout",
     "output_type": "stream",
     "text": [
      " 1% \n",
      "-10 \n"
     ]
    },
    {
     "name": "stderr",
     "output_type": "stream",
     "text": [
      "`stat_bin()` using `bins = 30`. Pick better value with `binwidth`.\n",
      "\n",
      "`stat_bin()` using `bins = 30`. Pick better value with `binwidth`.\n",
      "\n"
     ]
    }
   ],
   "source": [
    "all_df <- NULL\n",
    "sig_df <- NULL\n",
    "for (i in 1:5) {\n",
    "    for (j in 1:3) {\n",
    "        print(head(rdf[[i]][[j]]))\n",
    "        tdf <- summarize.one.data.simple(rdf[[i]][[j]])\n",
    "        new_df <- data.frame(gene=tdf$gene, prob=tdf$prob, pvalue=tdf$pvalue, prob_fixed=tdf$prob_fixed, pvalue_fixed=tdf$pvalue_fixed, mean_cov=tdf$mean_cov)\n",
    "        for (val in c('prob', 'pvalue', 'pvalue_fixed', 'prob_fixed')) {\n",
    "            if (any(val == c('prob', 'prob_fixed')))\n",
    "                new_df[new_df[,val] < -50, val] = -50\n",
    "            else\n",
    "                new_df[new_df[,val] < -10, val] = -10 \n",
    "        }\n",
    "        plot_histogram(new_df, 'prob', paste0('hist_prob_each_null_', i, '_', j), quant_value=0.01)\n",
    "        plot_histogram(new_df, 'pvalue', paste0('hist_pvalue_each_null_', i, '_', j), quant_value=0.01)\n",
    "        new_df[,'pvalue'] = exp(tdf[,'pvalue'])\n",
    "        plot_histogram(new_df, 'pvalue', paste0('hist_pvalue_each_null_', i, '_', j, '_exp'))\n",
    "        tdf <- cbind(tdf, extract.gene.info(tdf$gene, i))\n",
    "        tdf[,'ident'] = i\n",
    "        tdf[,'time'] = j\n",
    "        if (is.null(all_df)) all_df <- tdf\n",
    "        else all_df <- rbind(all_df, tdf)\n",
    "        new_sdf <- subset(new_df, new_df$pvalue < quantile(new_df$pvalue, 0.01))\n",
    "        new_sdf <- cbind(new_sdf, extract.gene.info(new_sdf$gene, i))\n",
    "        new_sdf <- cbind(new_sdf, data.frame(ident=rep(i, dim(new_sdf)[1]), time=rep(j, dim(new_sdf)[1])))\n",
    "        if (is.null(sig_df)) sig_df <- new_sdf\n",
    "        else sig_df <- rbind(sig_df, new_sdf)\n",
    "            \n",
    "    }\n",
    "}"
   ]
  },
  {
   "cell_type": "code",
   "execution_count": 183,
   "metadata": {},
   "outputs": [
    {
     "name": "stdout",
     "output_type": "stream",
     "text": [
      "    gene mean_cov       prob     pvalue prob_fixed pvalue_fixed         p\n",
      "175    1    11.25  -7.227680  -6.120041  -7.267098    -6.317464 0.4666667\n",
      "176    2    21.50  -8.529938  -6.369567  -8.530129    -6.362432 0.4302326\n",
      "177    3    17.50 -10.969050 -10.680789 -10.975048   -10.740385 0.4285714\n",
      "179    4    15.00  -6.652393  -3.799885  -6.654387    -3.833605 0.4833333\n",
      "181    5    13.25  -7.455729  -6.183900  -7.466073    -6.250732 0.4716981\n",
      "182    6    17.50  -8.670934  -7.544426  -8.688785    -7.772065 0.5714286\n",
      "      p_fixed          ensemblID           type name     chrm    pos ident time\n",
      "175 0.4458333 ENSDNOG00000042290 protein_coding  SYK JH563979 766458     1    1\n",
      "176 0.4312771 ENSDNOG00000042290 protein_coding  SYK JH563979 766677     1    1\n",
      "177 0.4221014 ENSDNOG00000042290 protein_coding  SYK JH563979 766712     1    1\n",
      "179 0.4874084 ENSDNOG00000042290 protein_coding  SYK JH563979 766874     1    1\n",
      "181 0.4618437 ENSDNOG00000042290 protein_coding  SYK JH563979 767289     1    1\n",
      "182 0.5602296 ENSDNOG00000042290 protein_coding  SYK JH563979 767371     1    1\n",
      "    gene      prob       pvalue prob_fixed pvalue_fixed mean_cov\n",
      "34    34 -13.18620 1.239248e-06  -13.18660          -10    18.75\n",
      "95    95 -16.11601 7.742660e-07  -16.14406          -10    54.25\n",
      "398  398 -12.91890 9.006745e-07  -12.92004          -10    12.50\n",
      "491  491   0.00000 0.000000e+00    0.00000          -10    30.00\n",
      "522  522 -16.17796 3.527600e-08  -16.17965          -10    14.25\n",
      "628  628 -19.36105 8.053221e-08  -19.40842          -10    93.00\n",
      "             ensemblID           type    name     chrm    pos ident time\n",
      "34  ENSDNOG00000042290 protein_coding     SYK JH563979 769371     1    1\n",
      "95  ENSDNOG00000042290 protein_coding     SYK JH563979 780421     1    1\n",
      "398 ENSDNOG00000045844 protein_coding  FAM49B JH564091 896260     1    1\n",
      "491 ENSDNOG00000051200        lincRNA         JH564093  73771     1    1\n",
      "522 ENSDNOG00000049566 protein_coding    CD69 JH564093 252291     1    1\n",
      "628 ENSDNOG00000035200 protein_coding CLEC12A JH564093 412505     1    1\n"
     ]
    }
   ],
   "source": [
    "print(head(all_df))\n",
    "print(head(sig_df))"
   ]
  },
  {
   "cell_type": "code",
   "execution_count": 184,
   "metadata": {},
   "outputs": [
    {
     "name": "stdout",
     "output_type": "stream",
     "text": [
      "    gene      prob       pvalue prob_fixed pvalue_fixed mean_cov\n",
      "34    34 -13.18620 1.239248e-06  -13.18660          -10    18.75\n",
      "95    95 -16.11601 7.742660e-07  -16.14406          -10    54.25\n",
      "398  398 -12.91890 9.006745e-07  -12.92004          -10    12.50\n",
      "491  491   0.00000 0.000000e+00    0.00000          -10    30.00\n",
      "522  522 -16.17796 3.527600e-08  -16.17965          -10    14.25\n",
      "628  628 -19.36105 8.053221e-08  -19.40842          -10    93.00\n",
      "             ensemblID           type    name     chrm    pos ident time\n",
      "34  ENSDNOG00000042290 protein_coding     SYK JH563979 769371     1    1\n",
      "95  ENSDNOG00000042290 protein_coding     SYK JH563979 780421     1    1\n",
      "398 ENSDNOG00000045844 protein_coding  FAM49B JH564091 896260     1    1\n",
      "491 ENSDNOG00000051200        lincRNA         JH564093  73771     1    1\n",
      "522 ENSDNOG00000049566 protein_coding    CD69 JH564093 252291     1    1\n",
      "628 ENSDNOG00000035200 protein_coding CLEC12A JH564093 412505     1    1\n"
     ]
    }
   ],
   "source": [
    "print(head(sig_df))\n",
    "\n",
    "\n",
    "saveRDS(all_df, 'simple_independent_all_summary.rds')\n",
    "saveRDS(sig_df, 'simple_independent_sig_summary.rds')"
   ]
  },
  {
   "cell_type": "code",
   "execution_count": 128,
   "metadata": {},
   "outputs": [
    {
     "name": "stderr",
     "output_type": "stream",
     "text": [
      "IOPub data rate exceeded.\n",
      "The notebook server will temporarily stop sending output\n",
      "to the client in order to avoid crashing it.\n",
      "To change this limit, set the config variable\n",
      "`--NotebookApp.iopub_data_rate_limit`.\n",
      "\n",
      "Current values:\n",
      "NotebookApp.iopub_data_rate_limit=1000000.0 (bytes/sec)\n",
      "NotebookApp.rate_limit_window=3.0 (secs)\n",
      "\n"
     ]
    }
   ],
   "source": [
    "sdf <- readRDS('simple_t0_result.rds')\n",
    "print(head(sdf))\n",
    "print(head(rdf))\n",
    "# png(paste0('hist_p.png'))\n",
    "# g <- ggplot(new_df, aes(x=value, color=label))+geom_histogram(position = \"dodge\", fill=\"white\", alpha=0.4)+theme_bw()\n",
    "# plot(g)\n",
    "# dev.off()\n",
    "# pdf <- new_df\n",
    "# for (cnum in c(10, 25, 50, 75, 100)) {\n",
    "#     pdf <- rbind(pdf, data.frame(value=rbinom(dim(all_df)[1], cnum, 0.5)/cnum, label=rep(paste0('p_simu_', cnum), dim(all_df)[1])))\n",
    "# }\n",
    "# pdf <- subset(pdf, pdf$label != 'p_fixed')\n",
    "# png(paste0('hist_p_sim.png'))\n",
    "# g <- ggplot(pdf, aes(x=value, color=label))+geom_density(alpha=1, adjust=5)+theme_bw()\n",
    "# plot(g)\n",
    "# dev.off()\n",
    "# print(subset(pdf, pdf$label == \"p\"))\n",
    "# print(whats)\n",
    "# return()\n",
    "        \n",
    "        \n",
    "# #         png(paste0('hist_cor_', i, '_', j, '.png'))\n",
    "# #         g <- ggplot(tdf, aes(x=cor))+geom_histogram()+theme_bw()\n",
    "# #         plot(g)\n",
    "# #         dev.off()\n",
    "# #         png(paste0('density_cor_cov_', i, '_', j, '.png'))\n",
    "# #         g <- ggplot(tdf, aes(x=mean_cov, y=cor) ) +\n",
    "# #           geom_bin2d(bins = 50) +\n",
    "# #           scale_fill_continuous(type = \"viridis\") +\n",
    "# #           theme_bw()\n",
    "# #         plot(g)\n",
    "# #         dev.off()\n",
    "# #         png(paste0('density_cor_cov_log', i, '_', j, '.png'))\n",
    "# #         g <- ggplot(tdf, aes(x=mean_cov, y=cor) ) +\n",
    "# #           geom_bin2d(bins = 50) + scale_x_continuous(trans='log10') +\n",
    "# #           scale_fill_continuous(type = \"viridis\") +\n",
    "# #           theme_bw()\n",
    "# #         plot(g)\n",
    "# #         dev.off()\n",
    "#         if (is.null(all_df)) all_df <- tdf\n",
    "#         else all_df <- rbind(all_df, tdf)\n",
    "#     }\n",
    "# }\n",
    "# print(head(all_df))\n",
    "# png(paste0('hist_cor_all.png'))\n",
    "# g <- ggplot(all_df, aes(x=cor))+geom_histogram()+theme_bw()\n",
    "# plot(g)\n",
    "# dev.off()\n",
    "# png(paste0('hist_scor_all.png'))\n",
    "# g <- ggplot(all_df, aes(x=scor))+geom_histogram()+theme_bw()\n",
    "# plot(g)\n",
    "# dev.off()\n",
    "# new_df <- data.frame(value=all_df$p, label=rep('p', dim(all_df)[1]))\n",
    "# new_df <- rbind(new_df, data.frame(value=all_df$p_fixed, label=rep('p_fixed', dim(all_df)[1])))\n",
    "# png(paste0('hist_p.png'))\n",
    "# g <- ggplot(new_df, aes(x=value, color=label))+geom_histogram(position = \"dodge\", fill=\"white\", alpha=0.4)+theme_bw()\n",
    "# plot(g)\n",
    "# dev.off()\n",
    "# pdf <- new_df\n",
    "# for (cnum in c(10, 25, 50, 75, 100)) {\n",
    "#     pdf <- rbind(pdf, data.frame(value=rbinom(dim(all_df)[1], cnum, 0.5)/cnum, label=rep(paste0('p_simu_', cnum), dim(all_df)[1])))\n",
    "# }\n",
    "# pdf <- subset(pdf, pdf$label != 'p_fixed')\n",
    "# png(paste0('hist_p_sim.png'))\n",
    "# g <- ggplot(pdf, aes(x=value, color=label))+geom_density(alpha=1, adjust=5)+theme_bw()\n",
    "# plot(g)\n",
    "# dev.off()\n",
    "# print(subset(pdf, pdf$label == \"p\"))\n",
    "# print(whats)\n",
    "# return()\n",
    "# new_df <- data.frame(prob=all_df$prob, pvalue=all_df$pvalue, prob_fixed=all_df$prob_fixed, pvalue_fixed=all_df$pvalue_fixed, scor=all_df$cor, cor=all_df$cor, mean_cov=all_df$mean_cov)\n",
    "# for (val in c('prob', 'pvalue', 'pvalue_fixed', 'prob_fixed')) {\n",
    "#     new_df[new_df[,val] < -50, val] = -50\n",
    "# }\n",
    "# png(paste0('hist_prob_all.png'))\n",
    "# g <- ggplot(new_df, aes(x=prob))+geom_histogram()+theme_bw()\n",
    "# plot(g)\n",
    "# dev.off()\n",
    "# png(paste0('hist_pvalue_all.png'))\n",
    "# g <- ggplot(new_df, aes(x=pvalue))+geom_histogram()+theme_bw()\n",
    "# plot(g)\n",
    "# dev.off()\n",
    "\n",
    "\n",
    "# for (cor_value in c('cor', 'scor')) {\n",
    "#     if (cor_value == \"cor\")\n",
    "#         bins = 200\n",
    "#     else\n",
    "#         bins = 50\n",
    "#     for (prob_value in c('prob', 'pvalue', 'pvalue_fixed', 'prob_fixed')) {\n",
    "#         png(paste0('density_', cor_value, '_', prob_value, '_all.png'))\n",
    "#         g <- ggplot(all_df, aes_string(x=cor_value, y=prob_value) ) +\n",
    "#         geom_bin2d(bins = bins) +\n",
    "#         scale_fill_continuous(type = \"viridis\") +\n",
    "#         theme_bw()\n",
    "#         plot(g)\n",
    "#         dev.off()\n",
    "#         png(paste0('scatter_', cor_value, '_', prob_value, '_all.png'))\n",
    "#         g <- ggplot(all_df, aes_string(x=cor_value, y=prob_value) ) +\n",
    "#           geom_point(alpha=0.4) +\n",
    "#           theme_bw()\n",
    "#         plot(g)\n",
    "#         dev.off()\n",
    "#         png(paste0('scatter_', cor_value, '_', prob_value, '_exp_all.png'))\n",
    "#         g <- ggplot(all_df, aes_string(x=cor_value, y=paste0(\"exp_\", prob_value)) ) +\n",
    "#           geom_point(alpha=0.4) +\n",
    "#           theme_bw()\n",
    "#         plot(g)\n",
    "#         dev.off()\n",
    "#         png(paste0('density_', cor_value, '_', prob_value, '_exp_all.png'))\n",
    "#         g <- ggplot(all_df, aes_string(x=cor_value, y=paste0(\"exp_\", prob_value))) +\n",
    "#         geom_bin2d(bins = bins) +\n",
    "#         scale_fill_continuous(type = \"viridis\") + ylim(0, 1) + \n",
    "#         theme_bw()\n",
    "#         plot(g)\n",
    "#         dev.off()\n",
    "#         png(paste0('density_', cor_value, '_', prob_value, '_min_all.png'))\n",
    "#         g <- ggplot(new_df, aes_string(x=cor_value, y=paste0(prob_value))) +\n",
    "#         geom_bin2d(bins = bins) +\n",
    "#         scale_fill_continuous(type = \"viridis\") + \n",
    "#         theme_bw()\n",
    "#         plot(g)\n",
    "#         dev.off()\n",
    "#         png(paste0('density_cov_log_', prob_value, '_min_all.png'))\n",
    "#         g <- ggplot(new_df, aes(x=mean_cov, y=prob) ) +\n",
    "#           geom_bin2d(bins = 200) + scale_x_continuous(trans='log10') + \n",
    "#           scale_fill_continuous(type = \"viridis\") +\n",
    "#           theme_bw()\n",
    "#         plot(g)\n",
    "#         dev.off()\n",
    "#     }\n",
    "# }\n",
    "# # png(paste0('density_cor_cov_all.png'))\n",
    "# # g <- ggplot(all_df, aes(x=mean_cov, y=cor) ) +\n",
    "# #   geom_bin2d(bins = 50) +\n",
    "# #   scale_fill_continuous(type = \"viridis\") +\n",
    "# #   theme_bw()\n",
    "# # plot(g)\n",
    "# # dev.off()\n",
    "# # png(paste0('density_scor_cov_all.png'))\n",
    "# # g <- ggplot(all_df, aes(x=mean_cov, y=scor) ) +\n",
    "# #   geom_bin2d() +\n",
    "# #   scale_fill_continuous(type = \"viridis\") +\n",
    "# #   theme_bw()\n",
    "# # plot(g)\n",
    "# # dev.off()\n",
    "# # png(paste0('density_cor_cov_log_all.png'))\n",
    "# # g <- ggplot(all_df, aes(x=mean_cov, y=cor) ) +\n",
    "# #   geom_bin2d(bins = 50) + scale_x_continuous(trans='log10') +\n",
    "# #   scale_fill_continuous(type = \"viridis\") +\n",
    "# #   theme_bw()\n",
    "# # plot(g)\n",
    "# # dev.off()\n",
    "# # png(paste0('density_scor_cov_log_all.png'))\n",
    "# # g <- ggplot(all_df, aes(x=mean_cov, y=scor) ) +\n",
    "# #   geom_bin2d() + scale_x_continuous(trans='log10') +\n",
    "# #   scale_fill_continuous(type = \"viridis\") +\n",
    "# #   theme_bw()\n",
    "# # plot(g)\n",
    "# # dev.off()"
   ]
  },
  {
   "cell_type": "code",
   "execution_count": null,
   "metadata": {},
   "outputs": [],
   "source": []
  },
  {
   "cell_type": "code",
   "execution_count": null,
   "metadata": {},
   "outputs": [],
   "source": []
  }
 ],
 "metadata": {
  "kernelspec": {
   "display_name": "R",
   "language": "R",
   "name": "ir"
  },
  "language_info": {
   "codemirror_mode": "r",
   "file_extension": ".r",
   "mimetype": "text/x-r-source",
   "name": "R",
   "pygments_lexer": "r",
   "version": "3.6.1"
  }
 },
 "nbformat": 4,
 "nbformat_minor": 4
}
